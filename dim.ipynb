{
 "cells": [
  {
   "cell_type": "code",
   "execution_count": 115,
   "id": "ca03ad64",
   "metadata": {},
   "outputs": [],
   "source": [
    "using Oscar"
   ]
  },
  {
   "cell_type": "code",
   "execution_count": 116,
   "id": "6a9dca71",
   "metadata": {},
   "outputs": [
    {
     "data": {
      "text/plain": [
       "3-element Vector{fmpq_mpoly}:\n",
       " x_{1}^2 - x_{2} - y_{1}^2\n",
       " -x_{1}^2 + 4*x_{2} - y_{2}^2\n",
       " -x_{2} - y_{3}^2 + 1"
      ]
     },
     "execution_count": 116,
     "metadata": {},
     "output_type": "execute_result"
    }
   ],
   "source": [
    "n=2\n",
    "m=3\n",
    "\n",
    "R, x, y, lamb = PolynomialRing(QQ, \"x\" => (1:n+1), \"y\" => (1:m), \"lamb\" => (1:m))\n",
    "\n",
    "f=x[1]-5*x[2]#objective polynomial\n",
    "\n",
    "g=[x[1]^2-x[2];-x[1]^2+4*x[2];-x[2]+1]#inequality constraints\n",
    "\n",
    "\n",
    "h=[g[j]-y[j]^2 for j=1:m]#transform to equality constraints"
   ]
  },
  {
   "cell_type": "code",
   "execution_count": 117,
   "id": "a50a6e0e",
   "metadata": {},
   "outputs": [
    {
     "data": {
      "text/plain": [
       "10-element Vector{fmpq_mpoly}:\n",
       " x_{1}^2 - x_{2} - y_{1}^2\n",
       " -x_{1}^2 + 4*x_{2} - y_{2}^2\n",
       " -x_{2} - y_{3}^2 + 1\n",
       " 2*x_{1}*lamb_{1} - 2*x_{1}*lamb_{2}\n",
       " -lamb_{1} + 4*lamb_{2} - lamb_{3}\n",
       " x_{1}^2*lamb_{1} - x_{2}*lamb_{1}\n",
       " -x_{1}^2*lamb_{2} + 4*x_{2}*lamb_{2}\n",
       " -x_{2}*lamb_{3} + lamb_{3}\n",
       " -lamb_{1}^2 - lamb_{2}^2 - lamb_{3}^2 + 1\n",
       " -x_{1} + 5*x_{2} + x_{3}"
      ]
     },
     "execution_count": 117,
     "metadata": {},
     "output_type": "execute_result"
    }
   ],
   "source": [
    "#compute the set h_sing of polynomials from Fritz John conditions without multiplier of the objective gradient\n",
    "h_sing=Vector{fmpq_mpoly}(undef,n)\n",
    "for i in 1:n\n",
    "    h_sing[i]=x[1]-x[1]\n",
    "end\n",
    "for j in 1:m\n",
    "    for i in 1:n\n",
    "        h_sing[i]+=lamb[j]*derivative(g[j], i)\n",
    "    end\n",
    "end\n",
    "\n",
    "for j in 1:m\n",
    "    h_sing=[h_sing;lamb[j]*g[j]]\n",
    "end\n",
    "\n",
    "h_sing=[h_sing;1-sum(lamb.^2)]\n",
    "h=[h;h_sing]\n",
    "\n",
    "h=[h;x[n+1]-f]#h=(gj(x)-yj^2,h_sing,x_{n+1}-f)"
   ]
  },
  {
   "cell_type": "code",
   "execution_count": 118,
   "id": "abd5e2f4",
   "metadata": {},
   "outputs": [
    {
     "data": {
      "text/plain": [
       "9-element Vector{fmpq_mpoly}:\n",
       " lamb_{3}\n",
       " lamb_{1} - 4*lamb_{2}\n",
       " y_{2}\n",
       " y_{1}\n",
       " x_{3}\n",
       " x_{2}\n",
       " x_{1}\n",
       " 17*lamb_{2}^2 - 1\n",
       " y_{3}^2 - 1"
      ]
     },
     "execution_count": 118,
     "metadata": {},
     "output_type": "execute_result"
    }
   ],
   "source": [
    "RI = radical(ideal(R, h))\n",
    "#RI = ideal(R, h)\n",
    "gens(RI)"
   ]
  },
  {
   "cell_type": "code",
   "execution_count": 119,
   "id": "c9eb8c19",
   "metadata": {},
   "outputs": [
    {
     "data": {
      "text/plain": [
       "9-element Vector{fmpq_mpoly}:\n",
       " lamb_{3}\n",
       " lamb_{1} - 4*lamb_{2}\n",
       " y_{2}\n",
       " y_{1}\n",
       " x_{3}\n",
       " x_{2}\n",
       " x_{1}\n",
       " 17*lamb_{2}^2 - 1\n",
       " y_{3}^2 - 1"
      ]
     },
     "execution_count": 119,
     "metadata": {},
     "output_type": "execute_result"
    }
   ],
   "source": [
    "G=groebner_basis(RI)"
   ]
  },
  {
   "cell_type": "code",
   "execution_count": 120,
   "id": "1f2a853b",
   "metadata": {},
   "outputs": [
    {
     "data": {
      "text/plain": [
       "1-element Vector{fmpq_mpoly}:\n",
       " x_{3}"
      ]
     },
     "execution_count": 120,
     "metadata": {},
     "output_type": "execute_result"
    }
   ],
   "source": [
    "check=1\n",
    "alpha=zeros(Int64,1)\n",
    "h_uni=Vector{fmpq_mpoly}([])\n",
    "for j=1:length(G)\n",
    "    check=1\n",
    "    for i in 1:length(G[j])\n",
    "        alpha=exponent_vector(G[j],i) \n",
    "        if sum(alpha[t] for t in setdiff(1:n+2*m+1,n+1))>0\n",
    "            check=0\n",
    "        end\n",
    "    end\n",
    "    if check==1\n",
    "        h_uni=[h_uni;G[j]]\n",
    "    end\n",
    "end\n",
    "\n",
    "h_uni# generators of the image f(S(g)\\cap C(g))"
   ]
  },
  {
   "cell_type": "code",
   "execution_count": null,
   "id": "81758db5",
   "metadata": {},
   "outputs": [],
   "source": []
  }
 ],
 "metadata": {
  "kernelspec": {
   "display_name": "Julia 1.7.1",
   "language": "julia",
   "name": "julia-1.7"
  },
  "language_info": {
   "file_extension": ".jl",
   "mimetype": "application/julia",
   "name": "julia",
   "version": "1.7.1"
  }
 },
 "nbformat": 4,
 "nbformat_minor": 5
}
