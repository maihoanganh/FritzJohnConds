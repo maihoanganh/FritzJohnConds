{
 "cells": [
  {
   "cell_type": "code",
   "execution_count": 10,
   "id": "c0583746",
   "metadata": {},
   "outputs": [],
   "source": [
    "using Oscar"
   ]
  },
  {
   "cell_type": "code",
   "execution_count": 11,
   "id": "99ae9acb",
   "metadata": {},
   "outputs": [
    {
     "data": {
      "text/plain": [
       "2-element Vector{fmpq_mpoly}:\n",
       " -x_{1} - y_{1}^2\n",
       " x_{1} - x_{2}^2 - y_{2}^2"
      ]
     },
     "execution_count": 11,
     "metadata": {},
     "output_type": "execute_result"
    }
   ],
   "source": [
    "#Example 1 of ``A symbolic algorithm for exact polynomial optimization strengthened with Fritz John conditions'' by N. H. A. Mai\n",
    "\n",
    "n=2\n",
    "m=2\n",
    "\n",
    "R, x, y, lamb, t = PolynomialRing(QQ, \"x\" => (1:n), \"y\" => (1:m), \"lamb\" => (1:m+1), \"t\" => (1:1))\n",
    "\n",
    "f=x[2]#objective polynomial\n",
    "g=[-x[1];x[1]-x[2]^2]#inequality constraints\n",
    "\n",
    "\n",
    "h=[g[j]-y[j]^2 for j=1:m]#transform to equality constraints"
   ]
  },
  {
   "cell_type": "code",
   "execution_count": 12,
   "id": "35d47af6",
   "metadata": {},
   "outputs": [
    {
     "data": {
      "text/plain": [
       "8-element Vector{fmpq_mpoly}:\n",
       " -x_{1} - y_{1}^2\n",
       " x_{1} - x_{2}^2 - y_{2}^2\n",
       " lamb_{2} - lamb_{3}\n",
       " 2*x_{2}*lamb_{3} + lamb_{1}\n",
       " -x_{1}*lamb_{2}\n",
       " x_{1}*lamb_{3} - x_{2}^2*lamb_{3}\n",
       " -lamb_{1}^2 - lamb_{2}^2 - lamb_{3}^2 + 1\n",
       " -x_{2} + t_{1}"
      ]
     },
     "execution_count": 12,
     "metadata": {},
     "output_type": "execute_result"
    }
   ],
   "source": [
    "#compute the set h_FJ of polynomials from Fritz John conditions\n",
    "h_FJ=Vector{fmpq_mpoly}(undef,n)\n",
    "for i in 1:n\n",
    "    h_FJ[i]=lamb[1]*derivative(f,i)\n",
    "end\n",
    "for j in 1:m\n",
    "    for i in 1:n\n",
    "        h_FJ[i]-=lamb[j+1]*derivative(g[j], i)\n",
    "    end\n",
    "end\n",
    "\n",
    "for j in 1:m\n",
    "    h_FJ=[h_FJ;lamb[j+1]*g[j]]\n",
    "end\n",
    "\n",
    "h_FJ=[h_FJ;1-sum(lamb.^2)]\n",
    "h=[h;h_FJ]\n",
    "\n",
    "h=[h;t[1]-f]#h=(gj(x)-yj^2,h_FJ,x_{n+1}-f)"
   ]
  },
  {
   "cell_type": "code",
   "execution_count": 13,
   "id": "feadf447",
   "metadata": {},
   "outputs": [
    {
     "data": {
      "text/plain": [
       "8-element Vector{fmpq_mpoly}:\n",
       " t_{1}\n",
       " lamb_{2} - lamb_{3}\n",
       " lamb_{1}\n",
       " y_{2}\n",
       " y_{1}\n",
       " x_{2}\n",
       " x_{1}\n",
       " 2*lamb_{3}^2 - 1"
      ]
     },
     "execution_count": 13,
     "metadata": {},
     "output_type": "execute_result"
    }
   ],
   "source": [
    "RI = radical(ideal(R, h))#compute radical of V(h)\n",
    "#RI = ideal(R, h)\n",
    "gens(RI)"
   ]
  },
  {
   "cell_type": "code",
   "execution_count": 14,
   "id": "34683cf8",
   "metadata": {},
   "outputs": [
    {
     "data": {
      "text/plain": [
       "8-element Vector{fmpq_mpoly}:\n",
       " t_{1}\n",
       " 2*lamb_{3}^2 - 1\n",
       " lamb_{2} - lamb_{3}\n",
       " lamb_{1}\n",
       " y_{2}\n",
       " y_{1}\n",
       " x_{2}\n",
       " x_{1}"
      ]
     },
     "execution_count": 14,
     "metadata": {},
     "output_type": "execute_result"
    }
   ],
   "source": [
    "G=groebner_basis(RI,ordering=lex(gens(R)))"
   ]
  },
  {
   "cell_type": "code",
   "execution_count": 15,
   "id": "a81f4ace",
   "metadata": {},
   "outputs": [
    {
     "data": {
      "text/plain": [
       "1-element Vector{fmpq_mpoly}:\n",
       " t_{1}"
      ]
     },
     "execution_count": 15,
     "metadata": {},
     "output_type": "execute_result"
    }
   ],
   "source": [
    "check=1\n",
    "alpha=zeros(Int64,1)\n",
    "h_uni=Vector{fmpq_mpoly}([])\n",
    "for j=1:length(G)\n",
    "    check=1\n",
    "    for i in 1:length(G[j])\n",
    "        alpha=exponent_vector(G[j],i) \n",
    "        if sum(alpha[t] for t in setdiff(1:n+2*m+2,n+2*m+2))>0\n",
    "            check=0\n",
    "        end\n",
    "    end\n",
    "    if check==1\n",
    "        h_uni=[h_uni;G[j]]\n",
    "    end\n",
    "end\n",
    "\n",
    "h_uni# generators of the image f(S(g)\\cap V(h_FJ))"
   ]
  },
  {
   "cell_type": "code",
   "execution_count": 16,
   "id": "66bddc0f",
   "metadata": {},
   "outputs": [
    {
     "data": {
      "text/plain": [
       "1-element Vector{acb}:\n",
       " 0"
      ]
     },
     "execution_count": 16,
     "metadata": {},
     "output_type": "execute_result"
    }
   ],
   "source": [
    "CC = ComplexField(64)\n",
    "C, u = PolynomialRing(CC, \"u\")\n",
    "\n",
    "m = u\n",
    "\n",
    "r = roots(m)"
   ]
  },
  {
   "cell_type": "code",
   "execution_count": null,
   "id": "1982c3e0",
   "metadata": {},
   "outputs": [],
   "source": []
  }
 ],
 "metadata": {
  "kernelspec": {
   "display_name": "Julia 1.7.1",
   "language": "julia",
   "name": "julia-1.7"
  },
  "language_info": {
   "file_extension": ".jl",
   "mimetype": "application/julia",
   "name": "julia",
   "version": "1.7.1"
  }
 },
 "nbformat": 4,
 "nbformat_minor": 5
}
