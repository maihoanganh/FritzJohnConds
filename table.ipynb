{
 "cells": [
  {
   "cell_type": "code",
   "execution_count": 163,
   "id": "f7f5dbcc",
   "metadata": {},
   "outputs": [],
   "source": [
    "using Oscar"
   ]
  },
  {
   "cell_type": "code",
   "execution_count": 154,
   "id": "2bf23709",
   "metadata": {},
   "outputs": [
    {
     "data": {
      "text/plain": [
       "solve_FJ (generic function with 1 method)"
      ]
     },
     "execution_count": 154,
     "metadata": {},
     "output_type": "execute_result"
    }
   ],
   "source": [
    "function solve_FJ(n,m,f,g,h,R,x,lamb,t;radical_comp=true)\n",
    "\n",
    "@time begin\n",
    "    \n",
    "#compute the set h_FJ of polynomials from Fritz John conditions\n",
    "h_FJ=Vector{fmpq_mpoly}(undef,n)\n",
    "for i in 1:n\n",
    "    h_FJ[i]=lamb[1]*derivative(f,i)\n",
    "end\n",
    "for j in 1:m\n",
    "    for i in 1:n\n",
    "        h_FJ[i]-=lamb[j+1]*derivative(g[j], i)\n",
    "    end\n",
    "end\n",
    "\n",
    "for j in 1:m\n",
    "    h_FJ=[h_FJ;lamb[j+1]*g[j]]\n",
    "end\n",
    "\n",
    "h_FJ=[h_FJ;1-sum(lamb.^2)]\n",
    "h=[h;h_FJ]\n",
    "\n",
    "h=[h;t[1]-f]#h=(gj(x)-yj^2,h_FJ,x_{n+1}-f)\n",
    "\n",
    "if radical_comp\n",
    "    RI = radical(ideal(R, h))#compute radical of V(h)\n",
    "else\n",
    "    RI = ideal(R, h)\n",
    "end\n",
    "#gens(RI)\n",
    "    \n",
    "G=groebner_basis(RI, ordering=lex(gens(R)))\n",
    "    \n",
    "check=1\n",
    "alpha=zeros(Int64,1)\n",
    "h_uni=Vector{fmpq_mpoly}([])\n",
    "for j=1:length(G)\n",
    "    check=1\n",
    "    for i in 1:length(G[j])\n",
    "        alpha=exponent_vector(G[j],i) \n",
    "        if sum(alpha[t] for t in setdiff(1:n+2*m+2,n+2*m+2))>0\n",
    "            check=0\n",
    "        end\n",
    "    end\n",
    "    if check==1\n",
    "        h_uni=[h_uni;G[j]]\n",
    "    end\n",
    "end\n",
    "\n",
    "println(h_uni)# generators of the image f(S(g)\\cap V(h_FJ))\n",
    "    \n",
    "end\n",
    "    \n",
    "end"
   ]
  },
  {
   "cell_type": "code",
   "execution_count": 137,
   "id": "2db9bad9",
   "metadata": {},
   "outputs": [
    {
     "data": {
      "text/plain": [
       "solve_FJ_plus (generic function with 1 method)"
      ]
     },
     "execution_count": 137,
     "metadata": {},
     "output_type": "execute_result"
    }
   ],
   "source": [
    "function solve_FJ_plus(n,m,f,g,h,R,x,lamb,t)\n",
    "\n",
    "@time begin\n",
    "    \n",
    "#compute the set h_FJ of polynomials from Fritz John conditions\n",
    "h_FJ=Vector{fmpq_mpoly}(undef,n)\n",
    "for i in 1:n\n",
    "    h_FJ[i]=lamb[1]^2*derivative(f,i)\n",
    "end\n",
    "for j in 1:m\n",
    "    for i in 1:n\n",
    "        h_FJ[i]-=lamb[j+1]^2*derivative(g[j], i)\n",
    "    end\n",
    "end\n",
    "\n",
    "for j in 1:m\n",
    "    h_FJ=[h_FJ;lamb[j+1]^2*g[j]]\n",
    "end\n",
    "\n",
    "h_FJ=[h_FJ;1-sum(lamb.^2)]\n",
    "h=[h;h_FJ]\n",
    "\n",
    "h=[h;t[1]-f]#h=(gj(x)-yj^2,h_FJ,x_{n+1}-f)\n",
    "    \n",
    "RI = radical(ideal(R, h))#compute radical of V(h)\n",
    "#RI = ideal(R, h)\n",
    "#gens(RI)\n",
    "    \n",
    "G=groebner_basis(RI, ordering=lex(gens(R)))\n",
    "    \n",
    "check=1\n",
    "alpha=zeros(Int64,1)\n",
    "h_uni=Vector{fmpq_mpoly}([])\n",
    "for j=1:length(G)\n",
    "    check=1\n",
    "    for i in 1:length(G[j])\n",
    "        alpha=exponent_vector(G[j],i) \n",
    "        if sum(alpha[t] for t in setdiff(1:n+2*m+2,n+2*m+2))>0\n",
    "            check=0\n",
    "        end\n",
    "    end\n",
    "    if check==1\n",
    "        h_uni=[h_uni;G[j]]\n",
    "    end\n",
    "end\n",
    "\n",
    "println(h_uni)# generators of the image f(S(g)\\cap V(h_FJ))\n",
    "    \n",
    "end\n",
    "    \n",
    "end"
   ]
  },
  {
   "cell_type": "code",
   "execution_count": null,
   "id": "b0687fd4",
   "metadata": {},
   "outputs": [],
   "source": []
  },
  {
   "cell_type": "code",
   "execution_count": 86,
   "id": "5d99a684",
   "metadata": {},
   "outputs": [
    {
     "data": {
      "text/plain": [
       "solve_KKT (generic function with 1 method)"
      ]
     },
     "execution_count": 86,
     "metadata": {},
     "output_type": "execute_result"
    }
   ],
   "source": [
    "function solve_KKT(n,m,f,g,h,R,x,lamb,t)\n",
    "\n",
    "@time begin\n",
    "    \n",
    "#compute the set h_KKT of polynomials from Karush–Kuhn–Tucker conditions\n",
    "h_KKT=Vector{fmpq_mpoly}(undef,n)\n",
    "for i in 1:n\n",
    "    h_KKT[i]=derivative(f,i)\n",
    "end\n",
    "for j in 1:m\n",
    "    for i in 1:n\n",
    "        h_KKT[i]-=lamb[j]*derivative(g[j], i)\n",
    "    end\n",
    "end\n",
    "\n",
    "for j in 1:m\n",
    "    h_KKT=[h_KKT;lamb[j]*g[j]]\n",
    "end\n",
    "\n",
    "h=[h;h_KKT]\n",
    "\n",
    "h=[h;t[1]-f]#h=(gj(x)-yj^2,h_FJ,x_{n+1}-f)\n",
    "    \n",
    "RI = radical(ideal(R, h))#compute radical of V(h)\n",
    "#RI = ideal(R, h)\n",
    "#gens(RI)\n",
    "    \n",
    "G=groebner_basis(RI, ordering=lex(gens(R)))\n",
    "    \n",
    "#println(G)\n",
    "    \n",
    "check=1\n",
    "alpha=zeros(Int64,1)\n",
    "h_uni=Vector{fmpq_mpoly}([])\n",
    "for j=1:length(G)\n",
    "    check=1\n",
    "    for i in 1:length(G[j])\n",
    "        alpha=exponent_vector(G[j],i) \n",
    "        if sum(alpha[t] for t in setdiff(1:n+2*m+1,n+2*m+1))>0\n",
    "            check=0\n",
    "        end\n",
    "    end\n",
    "    if check==1\n",
    "        h_uni=[h_uni;G[j]]\n",
    "    end\n",
    "end\n",
    "\n",
    "h_uni# generators of the image f(S(g)\\cap V(h_FJ))\n",
    "    \n",
    "end\n",
    "    \n",
    "end"
   ]
  },
  {
   "cell_type": "code",
   "execution_count": 162,
   "id": "4e9d7c54",
   "metadata": {},
   "outputs": [
    {
     "data": {
      "text/plain": [
       "solve_KKT_plus (generic function with 1 method)"
      ]
     },
     "execution_count": 162,
     "metadata": {},
     "output_type": "execute_result"
    }
   ],
   "source": [
    "function solve_KKT_plus(n,m,f,g,h,R,x,lamb,t)\n",
    "\n",
    "@time begin\n",
    "    \n",
    "#compute the set h_KKT of polynomials from Karush–Kuhn–Tucker conditions\n",
    "h_KKT=Vector{fmpq_mpoly}(undef,n)\n",
    "for i in 1:n\n",
    "    h_KKT[i]=derivative(f,i)\n",
    "end\n",
    "for j in 1:m\n",
    "    for i in 1:n\n",
    "        h_KKT[i]-=lamb[j]^2*derivative(g[j], i)\n",
    "    end\n",
    "end\n",
    "\n",
    "for j in 1:m\n",
    "    h_KKT=[h_KKT;lamb[j]^2*g[j]]\n",
    "end\n",
    "\n",
    "h=[h;h_KKT]\n",
    "\n",
    "h=[h;t[1]-f]#h=(gj(x)-yj^2,h_FJ,x_{n+1}-f)\n",
    "    \n",
    "RI = radical(ideal(R, h))#compute radical of V(h)\n",
    "#RI = ideal(R, h)\n",
    "#gens(RI)\n",
    "    \n",
    "G=groebner_basis(RI, ordering=lex(gens(R)))\n",
    "    \n",
    "#println(G)\n",
    "    \n",
    "check=1\n",
    "alpha=zeros(Int64,1)\n",
    "h_uni=Vector{fmpq_mpoly}([])\n",
    "for j=1:length(G)\n",
    "    check=1\n",
    "    for i in 1:length(G[j])\n",
    "        alpha=exponent_vector(G[j],i) \n",
    "        if sum(alpha[t] for t in setdiff(1:n+2*m+1,n+2*m+1))>0\n",
    "            check=0\n",
    "        end\n",
    "    end\n",
    "    if check==1\n",
    "        h_uni=[h_uni;G[j]]\n",
    "    end\n",
    "end\n",
    "\n",
    "h_uni# generators of the image f(S(g)\\cap V(h_FJ))\n",
    "    \n",
    "end\n",
    "    \n",
    "end"
   ]
  },
  {
   "cell_type": "code",
   "execution_count": null,
   "id": "93294f22",
   "metadata": {},
   "outputs": [],
   "source": []
  },
  {
   "cell_type": "code",
   "execution_count": 116,
   "id": "2b1306a1",
   "metadata": {},
   "outputs": [
    {
     "name": "stdout",
     "output_type": "stream",
     "text": [
      "fmpq_mpoly[t_{1}]\n",
      "  0.014475 seconds (5.60 k allocations: 254.461 KiB, 69.38% compilation time)\n"
     ]
    }
   ],
   "source": [
    "#Table 1 of ``A symbolic algorithm for exact polynomial optimization strengthened with Fritz John conditions'' by N. H. A. Mai\n",
    "using Oscar\n",
    "\n",
    "n=2\n",
    "m=2\n",
    "\n",
    "R, x, y, lamb, t = PolynomialRing(QQ, \"x\" => (1:n), \"y\" => (1:m), \"lamb\" => (1:m+1), \"t\" => (1:1))\n",
    "\n",
    "f=x[2]#objective polynomial\n",
    "g=[-x[1];x[1]-x[2]^2]#inequality constraints\n",
    "\n",
    "\n",
    "h=[g[j]-y[j]^2 for j=1:m]#transform to equality constraints\n",
    "\n",
    "solve_FJ(n,m,f,g,h,R,x,lamb,t)"
   ]
  },
  {
   "cell_type": "code",
   "execution_count": 117,
   "id": "e74c77b9",
   "metadata": {},
   "outputs": [
    {
     "data": {
      "text/plain": [
       "1-element Vector{acb}:\n",
       " 0"
      ]
     },
     "execution_count": 117,
     "metadata": {},
     "output_type": "execute_result"
    }
   ],
   "source": [
    "CC = ComplexField(64)\n",
    "C, u = PolynomialRing(CC, \"u\")\n",
    "\n",
    "m = u\n",
    "\n",
    "r = roots(m)"
   ]
  },
  {
   "cell_type": "code",
   "execution_count": 118,
   "id": "31ff0716",
   "metadata": {},
   "outputs": [
    {
     "name": "stdout",
     "output_type": "stream",
     "text": [
      "  0.013323 seconds (40.93 k allocations: 892.672 KiB)\n"
     ]
    },
    {
     "data": {
      "text/plain": [
       "1-element Vector{fmpq_mpoly}:\n",
       " 100*t_{1}^6 + 1975*t_{1}^5 + 14001*t_{1}^4 + 41395*t_{1}^3 + 39295*t_{1}^2 - 12150*t_{1} + 504"
      ]
     },
     "execution_count": 118,
     "metadata": {},
     "output_type": "execute_result"
    }
   ],
   "source": [
    "#Table 1 of ``A symbolic algorithm for exact polynomial optimization strengthened with Fritz John conditions'' by N. H. A. Mai\n",
    "using Oscar\n",
    "\n",
    "n=2\n",
    "m=3\n",
    "\n",
    "R, x, y, lamb, t = PolynomialRing(QQ, \"x\" => (1:n), \"y\" => (1:m), \"lamb\" => (1:m), \"t\" => (1:1))\n",
    "\n",
    "f=x[1]-5*x[2]#objective polynomial\n",
    "\n",
    "g=[x[1]^2-x[2];-x[1]^2+4*x[2];-x[2]+1]#inequality constraints\n",
    "\n",
    "\n",
    "h=[g[j]-y[j]^2 for j=1:m]#transform to equality constraints\n",
    "\n",
    "solve_KKT(n,m,f,g,h,R,x,lamb,t)"
   ]
  },
  {
   "cell_type": "code",
   "execution_count": 119,
   "id": "56341c4c",
   "metadata": {},
   "outputs": [
    {
     "data": {
      "text/plain": [
       "6-element Vector{acb}:\n",
       " [-7.00000 +/- 3.20e-6]\n",
       " [-6.00000 +/- 4.11e-6]\n",
       " [-4.00000 +/- 1.24e-6]\n",
       " [-3.000000 +/- 5.76e-7]\n",
       " [0.050000000 +/- 4.06e-10]\n",
       " [0.200000000 +/- 9.30e-10]"
      ]
     },
     "execution_count": 119,
     "metadata": {},
     "output_type": "execute_result"
    }
   ],
   "source": [
    "CC = ComplexField(64)\n",
    "C, u = PolynomialRing(CC, \"u\")\n",
    "\n",
    "m = 100*u^6 + 1975*u^5 + 14001*u^4 + 41395*u^3 + 39295*u^2 - 12150*u + 504\n",
    "\n",
    "r = roots(m,isolate_real = true)"
   ]
  },
  {
   "cell_type": "code",
   "execution_count": 160,
   "id": "a67facf7",
   "metadata": {},
   "outputs": [],
   "source": [
    "# #Table 1 of ``A symbolic algorithm for exact polynomial optimization strengthened with Fritz John conditions'' by N. H. A. Mai\n",
    "# using Oscar\n",
    "\n",
    "# n=2\n",
    "# m=1\n",
    "\n",
    "# R, x, y, lamb, t = PolynomialRing(QQ, \"x\" => (1:n), \"y\" => (1:m), \"lamb\" => (1:m+1), \"t\" => (1:1))\n",
    "\n",
    "# f=(x[1]+1)^2+x[2]^2-1\n",
    "\n",
    "# g=[x[1]^3-x[2]^2]\n",
    "\n",
    "\n",
    "# h=[g[j]-y[j]^2 for j=1:m]#transform to equality constraints\n",
    "\n",
    "# solve_FJ(n,m,f,g,h,R,x,lamb,t,radical_comp=true)"
   ]
  },
  {
   "cell_type": "code",
   "execution_count": 161,
   "id": "fd2d7ded",
   "metadata": {},
   "outputs": [],
   "source": [
    "# CC = ComplexField(64)\n",
    "# C, u = PolynomialRing(CC, \"u\")\n",
    "\n",
    "# m = 27*u^4 + 59*u^3 + 60*u^2 + 28*u\n",
    "\n",
    "# r = roots(m)"
   ]
  },
  {
   "cell_type": "code",
   "execution_count": 149,
   "id": "f67b4a36",
   "metadata": {},
   "outputs": [
    {
     "name": "stdout",
     "output_type": "stream",
     "text": [
      "fmpq_mpoly[t_{1}]\n",
      "  0.025434 seconds (2.77 k allocations: 96.328 KiB)\n"
     ]
    }
   ],
   "source": [
    "#Table 1 of ``A symbolic algorithm for exact polynomial optimization strengthened with Fritz John conditions'' by N. H. A. Mai\n",
    "using Oscar\n",
    "\n",
    "n=2\n",
    "m=1\n",
    "\n",
    "R, x, y, lamb, t = PolynomialRing(QQ, \"x\" => (1:n), \"y\" => (1:m), \"lamb\" => (1:m+1), \"t\" => (1:1))\n",
    "\n",
    "f=x[1]-x[2]\n",
    "\n",
    "g=[(x[1]-x[2])^3]\n",
    "\n",
    "\n",
    "h=[g[j]-y[j]^2 for j=1:m]#transform to equality constraints\n",
    "\n",
    "solve_FJ_plus(n,m,f,g,h,R,x,lamb,t)"
   ]
  },
  {
   "cell_type": "code",
   "execution_count": 150,
   "id": "3fb97096",
   "metadata": {},
   "outputs": [
    {
     "data": {
      "text/plain": [
       "1-element Vector{acb}:\n",
       " 0"
      ]
     },
     "execution_count": 150,
     "metadata": {},
     "output_type": "execute_result"
    }
   ],
   "source": [
    "CC = ComplexField(64)\n",
    "C, u = PolynomialRing(CC, \"u\")\n",
    "\n",
    "m = u\n",
    "\n",
    "r = roots(m)"
   ]
  },
  {
   "cell_type": "code",
   "execution_count": null,
   "id": "b4a6701a",
   "metadata": {},
   "outputs": [],
   "source": []
  },
  {
   "cell_type": "code",
   "execution_count": 122,
   "id": "97a3c6ce",
   "metadata": {},
   "outputs": [
    {
     "name": "stdout",
     "output_type": "stream",
     "text": [
      "  0.041470 seconds (17.71 k allocations: 785.406 KiB)\n"
     ]
    },
    {
     "data": {
      "text/plain": [
       "1-element Vector{fmpq_mpoly}:\n",
       " t_{1}^3 - 62*t_{1}^2 - 63*t_{1}"
      ]
     },
     "execution_count": 122,
     "metadata": {},
     "output_type": "execute_result"
    }
   ],
   "source": [
    "#Table 1 of ``A symbolic algorithm for exact polynomial optimization strengthened with Fritz John conditions'' by N. H. A. Mai\n",
    "using Oscar\n",
    "\n",
    "n=2\n",
    "m=1\n",
    "\n",
    "R, x, y, lamb, t = PolynomialRing(QQ, \"x\" => (1:n), \"y\" => (1:m), \"lamb\" => (1:m), \"t\" => (1:1))\n",
    "\n",
    "f=(x[1]^2+x[2]^2-2)*(x[1]^2+x[2]^2)#objective polynomial\n",
    "\n",
    "g=[(x[1]^2+x[2]^2-2)*(x[1]-3)]#inequality constraints\n",
    "\n",
    "h=[g[j]-y[j]^2 for j=1:m]#transform to equality constraints\n",
    "\n",
    "solve_KKT(n,m,f,g,h,R,x,lamb,t)"
   ]
  },
  {
   "cell_type": "code",
   "execution_count": 123,
   "id": "bfaf4c80",
   "metadata": {},
   "outputs": [
    {
     "data": {
      "text/plain": [
       "3-element Vector{acb}:\n",
       " [-1.00000000 +/- 1.40e-9]\n",
       " [+/- 6.08e-29]\n",
       " [63.00000000 +/- 1.40e-9]"
      ]
     },
     "execution_count": 123,
     "metadata": {},
     "output_type": "execute_result"
    }
   ],
   "source": [
    "CC = ComplexField(64)\n",
    "C, u = PolynomialRing(CC, \"u\")\n",
    "\n",
    "m = u^3 - 62*u^2 - 63*u\n",
    "\n",
    "r = roots(m,isolate_real = true)"
   ]
  },
  {
   "cell_type": "code",
   "execution_count": null,
   "id": "bf97c1d0",
   "metadata": {},
   "outputs": [],
   "source": []
  },
  {
   "cell_type": "code",
   "execution_count": 131,
   "id": "18969522",
   "metadata": {},
   "outputs": [
    {
     "name": "stdout",
     "output_type": "stream",
     "text": [
      "  0.166016 seconds (1.48 M allocations: 32.620 MiB, 18.47% gc time)\n"
     ]
    },
    {
     "data": {
      "text/plain": [
       "1-element Vector{fmpq_mpoly}:\n",
       " 49207500000000000*t_{1}^11 - 81961242187500000*t_{1}^10 + 35401891640625000*t_{1}^9 - 5747811890625000*t_{1}^8 + 576144305156250*t_{1}^7 - 50773802062500*t_{1}^6 + 2487391238125*t_{1}^5 - 34983679000*t_{1}^4 + 1586740350*t_{1}^3 - 4087040*t_{1}^2 + 182336*t_{1}"
      ]
     },
     "execution_count": 131,
     "metadata": {},
     "output_type": "execute_result"
    }
   ],
   "source": [
    "#Table 1 of ``A symbolic algorithm for exact polynomial optimization strengthened with Fritz John conditions'' by N. H. A. Mai\n",
    "using Oscar\n",
    "\n",
    "n=3\n",
    "m=1\n",
    "\n",
    "R, x, y, lamb, t = PolynomialRing(QQ, \"x\" => (1:n), \"y\" => (1:m), \"lamb\" => (1:m), \"t\" => (1:1))\n",
    "\n",
    "eps=1//10\n",
    "\n",
    "f=x[1]^4*x[2]^2+x[1]^2*x[2]^4+x[3]^6-3*x[1]^2*x[2]^2*x[3]^2+eps*(x[1]^2+x[2]^2+x[3]^2) \n",
    "g=[1-x[1]^2-x[2]^2-x[3]^2]\n",
    "\n",
    "h=[g[j]-y[j]^2 for j=1:m]#transform to equality constraints\n",
    "\n",
    "solve_KKT(n,m,f,g,h,R,x,lamb,t)"
   ]
  },
  {
   "cell_type": "code",
   "execution_count": 132,
   "id": "c3261d09",
   "metadata": {},
   "outputs": [
    {
     "data": {
      "text/plain": [
       "11-element Vector{acb}:\n",
       " [+/- 1.22e-11]\n",
       " [0.100000 +/- 2.57e-8]\n",
       " [0.1156250 +/- 3.35e-8]\n",
       " [0.3500000 +/- 2.03e-8]\n",
       " [1.1000000 +/- 1.89e-8]\n",
       " [+/- 1.82e-10] + [0.012171612 +/- 5.68e-10]*im\n",
       " [+/- 1.22e-10] + [-0.012171612 +/- 5.12e-10]*im\n",
       " [+/- 3.29e-10] + [0.024343225 +/- 5.47e-10]*im\n",
       " [+/- 3.29e-10] + [-0.024343225 +/- 5.47e-10]*im\n",
       " [+/- 1.32e-9] + [0.09737290 +/- 2.18e-9]*im\n",
       " [+/- 1.35e-9] + [-0.09737290 +/- 2.21e-9]*im"
      ]
     },
     "execution_count": 132,
     "metadata": {},
     "output_type": "execute_result"
    }
   ],
   "source": [
    "CC = ComplexField(64)\n",
    "C, u = PolynomialRing(CC, \"u\")\n",
    "\n",
    "m = 49207500000000000*u^11 - 81961242187500000*u^10 + 35401891640625000*u^9 - 5747811890625000*u^8 + 576144305156250*u^7 - 50773802062500*u^6 + 2487391238125*u^5 - 34983679000*u^4 + 1586740350*u^3 - 4087040*u^2 + 182336*u\n",
    "\n",
    "r = roots(m,isolate_real = true)"
   ]
  },
  {
   "cell_type": "code",
   "execution_count": 133,
   "id": "21f8628e",
   "metadata": {},
   "outputs": [
    {
     "name": "stdout",
     "output_type": "stream",
     "text": [
      "  0.010471 seconds (20.35 k allocations: 447.516 KiB)\n"
     ]
    },
    {
     "data": {
      "text/plain": [
       "1-element Vector{fmpq_mpoly}:\n",
       " 54*t_{1}^4 - 83*t_{1}^3 + 30*t_{1}^2 - t_{1}"
      ]
     },
     "execution_count": 133,
     "metadata": {},
     "output_type": "execute_result"
    }
   ],
   "source": [
    "#Table 1 of ``A symbolic algorithm for exact polynomial optimization strengthened with Fritz John conditions'' by N. H. A. Mai\n",
    "using Oscar\n",
    "\n",
    "n=2\n",
    "m=3\n",
    "\n",
    "R, x, y, lamb, t = PolynomialRing(QQ, \"x\" => (1:n), \"y\" => (1:m), \"lamb\" => (1:m), \"t\" => (1:1))\n",
    "\n",
    "\n",
    "f=x[1]*x[2]+x[1]^3+x[2]^3\n",
    "g=[x[1];x[2];1-x[1]-x[2]]\n",
    "\n",
    "h=[g[j]-y[j]^2 for j=1:m]#transform to equality constraints\n",
    "\n",
    "solve_KKT(n,m,f,g,h,R,x,lamb,t)"
   ]
  },
  {
   "cell_type": "code",
   "execution_count": 134,
   "id": "01a806ec",
   "metadata": {},
   "outputs": [
    {
     "data": {
      "text/plain": [
       "4-element Vector{acb}:\n",
       " 0\n",
       " [0.037037037 +/- 1.73e-10]\n",
       " [0.50000000 +/- 3.52e-9]\n",
       " 1.0000000000000000000"
      ]
     },
     "execution_count": 134,
     "metadata": {},
     "output_type": "execute_result"
    }
   ],
   "source": [
    "CC = ComplexField(64)\n",
    "C, u = PolynomialRing(CC, \"u\")\n",
    "\n",
    "m = 54*u^4 - 83*u^3 + 30*u^2 -u\n",
    "\n",
    "r = roots(m,isolate_real = true)"
   ]
  },
  {
   "cell_type": "code",
   "execution_count": 135,
   "id": "0b87bdd5",
   "metadata": {},
   "outputs": [
    {
     "name": "stdout",
     "output_type": "stream",
     "text": [
      "  0.564160 seconds (134.99 k allocations: 5.910 MiB)\n"
     ]
    },
    {
     "data": {
      "text/plain": [
       "1-element Vector{fmpq_mpoly}:\n",
       " 64*t_{1}^4 - 271*t_{1}^3 + 234*t_{1}^2 - 27*t_{1}"
      ]
     },
     "execution_count": 135,
     "metadata": {},
     "output_type": "execute_result"
    }
   ],
   "source": [
    "#Table 1 of ``A symbolic algorithm for exact polynomial optimization strengthened with Fritz John conditions'' by N. H. A. Mai\n",
    "using Oscar\n",
    "\n",
    "n=3\n",
    "m=3\n",
    "\n",
    "R, x, y, lamb, t = PolynomialRing(QQ, \"x\" => (1:n), \"y\" => (1:m), \"lamb\" => (1:m), \"t\" => (1:1))\n",
    "\n",
    "\n",
    "f=x[1]^4*x[2]^2+x[2]^4*x[3]^2+x[3]^4*x[1]^2-3*x[1]^2*x[2]^2*x[3]^2\n",
    "g=[1-x[1]^2;1-x[2]^2;1-x[3]^2]\n",
    "\n",
    "h=[g[j]-y[j]^2 for j=1:m]#transform to equality constraints\n",
    "\n",
    "solve_KKT(n,m,f,g,h,R,x,lamb,t)"
   ]
  },
  {
   "cell_type": "code",
   "execution_count": 136,
   "id": "5e18778e",
   "metadata": {},
   "outputs": [
    {
     "data": {
      "text/plain": [
       "4-element Vector{acb}:\n",
       " [+/- 6.43e-26]\n",
       " [0.13616744 +/- 3.33e-9]\n",
       " [1.0000000 +/- 6.40e-9]\n",
       " [3.09820756 +/- 7.77e-9]"
      ]
     },
     "execution_count": 136,
     "metadata": {},
     "output_type": "execute_result"
    }
   ],
   "source": [
    "CC = ComplexField(64)\n",
    "C, u = PolynomialRing(CC, \"u\")\n",
    "\n",
    "m = 64*u^4 - 271*u^3 + 234*u^2 - 27*u\n",
    "\n",
    "r = roots(m,isolate_real = true)"
   ]
  },
  {
   "cell_type": "code",
   "execution_count": 151,
   "id": "90077d34",
   "metadata": {},
   "outputs": [],
   "source": [
    "# #Table 1 of ``A symbolic algorithm for exact polynomial optimization strengthened with Fritz John conditions'' by N. H. A. Mai\n",
    "# using Oscar\n",
    "\n",
    "# n=2\n",
    "# m=3\n",
    "\n",
    "# R, x, y, lamb, t = PolynomialRing(QQ, \"x\" => (1:n), \"y\" => (1:m), \"lamb\" => (1:m+1), \"t\" => (1:1))\n",
    "\n",
    "\n",
    "# f=x[1]-1\n",
    "# g=[x[1];x[2];(x[1]-1)^3-x[2]]\n",
    "\n",
    "# h=[g[j]-y[j]^2 for j=1:m]#transform to equality constraints\n",
    "\n",
    "# solve_FJ_plus(n,m,f,g,h,R,x,lamb,t)"
   ]
  },
  {
   "cell_type": "code",
   "execution_count": 152,
   "id": "b19993da",
   "metadata": {},
   "outputs": [],
   "source": [
    "# CC = ComplexField(64)\n",
    "# C, u = PolynomialRing(CC, \"u\")\n",
    "\n",
    "# m = u^2 + u\n",
    "\n",
    "# r = roots(m,isolate_real = true)"
   ]
  },
  {
   "cell_type": "code",
   "execution_count": null,
   "id": "b0059f0e",
   "metadata": {},
   "outputs": [],
   "source": []
  }
 ],
 "metadata": {
  "kernelspec": {
   "display_name": "Julia 1.7.1",
   "language": "julia",
   "name": "julia-1.7"
  },
  "language_info": {
   "file_extension": ".jl",
   "mimetype": "application/julia",
   "name": "julia",
   "version": "1.7.1"
  }
 },
 "nbformat": 4,
 "nbformat_minor": 5
}
