{
 "cells": [
  {
   "cell_type": "code",
   "execution_count": 5,
   "id": "9abd34ab",
   "metadata": {},
   "outputs": [],
   "source": []
  },
  {
   "cell_type": "code",
   "execution_count": 48,
   "id": "b51c547a",
   "metadata": {},
   "outputs": [
    {
     "data": {
      "text/plain": [
       "1-element Vector{fmpq_mpoly}:\n",
       " x_{1}^3 - x_{2}^2 - y_{1}^2"
      ]
     },
     "execution_count": 48,
     "metadata": {},
     "output_type": "execute_result"
    }
   ],
   "source": [
    "#Table 1 of ``A symbolic algorithm for exact polynomial optimization strengthened with Fritz John conditions'' by N. H. A. Mai\n",
    "using Oscar\n",
    "\n",
    "n=2\n",
    "m=1\n",
    "\n",
    "R, x, y, lamb, t = PolynomialRing(QQ, \"x\" => (1:n), \"y\" => (1:m), \"lamb\" => (1:m+1), \"t\" => (1:1))\n",
    "\n",
    "f=(x[1]+1)^2+x[2]^2-1#objective polynomial\n",
    "\n",
    "g=[x[1]^3-x[2]^2]#inequality constraints\n",
    "\n",
    "\n",
    "h=[g[j]-y[j]^2 for j=1:m]#transform to equality constraints"
   ]
  },
  {
   "cell_type": "code",
   "execution_count": 50,
   "id": "4c6300f5",
   "metadata": {},
   "outputs": [
    {
     "name": "stdout",
     "output_type": "stream",
     "text": [
      "fmpq_mpoly[27*t_{1}^4 + 59*t_{1}^3 + 60*t_{1}^2 + 28*t_{1}]\n",
      "  0.096196 seconds (66.70 k allocations: 3.053 MiB, 47.04% gc time, 39.26% compilation time)\n"
     ]
    },
    {
     "data": {
      "text/plain": [
       "14-element Vector{fmpq_mpoly}:\n",
       " 27*t_{1}^4 + 59*t_{1}^3 + 60*t_{1}^2 + 28*t_{1}\n",
       " 27*lamb_{2}*t_{1}^3 + 32*lamb_{2}*t_{1}^2 + 28*lamb_{2}*t_{1}\n",
       " 9016*lamb_{2}^2 + 14607*t_{1}^4 + 22280*t_{1}^3 + 16689*t_{1}^2 - 9016\n",
       " 3096*lamb_{1}*t_{1} + 3096*lamb_{1} + 858*lamb_{2}^5*t_{1}^2 + 17668*lamb_{2}^5*t_{1} + 17692*lamb_{2}^5 + 3753*lamb_{2}^3*t_{1}^2 - 24054*lamb_{2}^3*t_{1} - 25170*lamb_{2}^3 - 5736*lamb_{2}*t_{1}^2 + 6386*lamb_{2}*t_{1} + 7478*lamb_{2}\n",
       " 18576*lamb_{1}*lamb_{2} + 4290*lamb_{2}^4*t_{1}^2 + 74924*lamb_{2}^4*t_{1} + 84332*lamb_{2}^4 + 18765*lamb_{2}^2*t_{1}^2 - 69186*lamb_{2}^2*t_{1} - 107274*lamb_{2}^2 - 28680*t_{1}^2 - 5738*t_{1} + 22942\n",
       " lamb_{1}^2 + lamb_{2}^2 - 1\n",
       " y_{1}*t_{1} + y_{1}\n",
       " y_{1}*lamb_{2}\n",
       " 300*y_{1}^2 + 6228*lamb_{1}^2*lamb_{2}^2*t_{1}^2 + 7980*lamb_{1}^2*lamb_{2}^2*t_{1} + 1968*lamb_{1}^2*lamb_{2}^2 - 450*lamb_{1}^2*t_{1}^2 - 1950*lamb_{1}^2*t_{1} - 600*lamb_{1}^2 + 1730*lamb_{1}*lamb_{2}^3*t_{1}^2 + 256*lamb_{1}*lamb_{2}^3*t_{1} - 1312*lamb_{1}*lamb_{2}^3 + 1259*lamb_{1}*lamb_{2}*t_{1}^2 + 2296*lamb_{1}*lamb_{2}*t_{1} + 1712*lamb_{1}*lamb_{2} + 2076*lamb_{2}^4*t_{1}^2 + 1968*lamb_{2}^4*t_{1} - 2226*lamb_{2}^2*t_{1}^2 - 2568*lamb_{2}^2*t_{1} + 600*t_{1}\n",
       " 27*x_{2}*t_{1}^2 + 32*x_{2}*t_{1} + 28*x_{2}\n",
       " x_{2}*lamb_{1} + x_{2}*lamb_{2}\n",
       " x_{2}*y_{1}\n",
       " 5*x_{2}^2 - 72*lamb_{1}^2*lamb_{2}^2*t_{1} - 24*lamb_{1}^2*lamb_{2}^2 - 20*lamb_{1}*lamb_{2}^3*t_{1} + 16*lamb_{1}*lamb_{2}^3 - 16*lamb_{1}*lamb_{2}*t_{1} - 16*lamb_{1}*lamb_{2} - 24*lamb_{2}^4*t_{1} + 24*lamb_{2}^2*t_{1}\n",
       " 12*x_{1} + 13*x_{2}^2*lamb_{2}^2 - 18*lamb_{1}^2*t_{1} - 6*lamb_{1}^2 - 5*lamb_{1}*lamb_{2}*t_{1} + 4*lamb_{1}*lamb_{2} - 6*lamb_{2}^2*t_{1}"
      ]
     },
     "execution_count": 50,
     "metadata": {},
     "output_type": "execute_result"
    }
   ],
   "source": [
    "@time begin\n",
    "    \n",
    "#compute the set h_FJ of polynomials from Fritz John conditions\n",
    "h_FJ=Vector{fmpq_mpoly}(undef,n)\n",
    "for i in 1:n\n",
    "    h_FJ[i]=lamb[1]*derivative(f,i)\n",
    "end\n",
    "for j in 1:m\n",
    "    for i in 1:n\n",
    "        h_FJ[i]-=lamb[j+1]*derivative(g[j], i)\n",
    "    end\n",
    "end\n",
    "\n",
    "for j in 1:m\n",
    "    h_FJ=[h_FJ;lamb[j+1]*g[j]]\n",
    "end\n",
    "\n",
    "h_FJ=[h_FJ;1-sum(lamb.^2)]\n",
    "h=[h;h_FJ]\n",
    "\n",
    "h=[h;t[1]-f]#h=(gj(x)-yj^2,h_FJ,x_{n+1}-f)\n",
    "    \n",
    "RI = radical(ideal(R, h))#compute radical of V(h)\n",
    "#RI = ideal(R, h)\n",
    "#gens(RI)\n",
    "    \n",
    "G=groebner_basis(RI, ordering=lex(gens(R)))\n",
    "    \n",
    "check=1\n",
    "alpha=zeros(Int64,1)\n",
    "h_uni=Vector{fmpq_mpoly}([])\n",
    "for j=1:length(G)\n",
    "    check=1\n",
    "    for i in 1:length(G[j])\n",
    "        alpha=exponent_vector(G[j],i) \n",
    "        if sum(alpha[t] for t in setdiff(1:n+2*m+2,n+2*m+2))>0\n",
    "            check=0\n",
    "        end\n",
    "    end\n",
    "    if check==1\n",
    "        h_uni=[h_uni;G[j]]\n",
    "    end\n",
    "end\n",
    "\n",
    "println(h_uni)# generators of the image f(S(g)\\cap V(h_FJ))\n",
    "    \n",
    "end\n",
    "\n",
    "G"
   ]
  },
  {
   "cell_type": "code",
   "execution_count": 30,
   "id": "52158c44",
   "metadata": {},
   "outputs": [
    {
     "data": {
      "text/plain": [
       "4-element Vector{acb}:\n",
       " [-1.0000000 +/- 5.42e-9]\n",
       " [+/- 3.16e-29]\n",
       " [-0.5925926 +/- 1.65e-8] + [0.8281733 +/- 3.42e-8]*im\n",
       " [-0.5925926 +/- 1.46e-8] + [-0.8281733 +/- 3.26e-8]*im"
      ]
     },
     "execution_count": 30,
     "metadata": {},
     "output_type": "execute_result"
    }
   ],
   "source": [
    "CC = ComplexField(64)\n",
    "C, u = PolynomialRing(CC, \"u\")\n",
    "\n",
    "m = 27*u^4 + 59*u^3 + 60*u^2 + 28*u\n",
    "\n",
    "r = roots(m)"
   ]
  },
  {
   "cell_type": "code",
   "execution_count": 37,
   "id": "64450cd0",
   "metadata": {},
   "outputs": [
    {
     "data": {
      "text/plain": [
       "2-element Vector{fmpq_mpoly}:\n",
       " x_{1}^2 - x_{2} - y_{1}^2\n",
       " -x_{1}^2 + 4*x_{2} - y_{2}^2"
      ]
     },
     "execution_count": 37,
     "metadata": {},
     "output_type": "execute_result"
    }
   ],
   "source": [
    "#Table 1 of ``A symbolic algorithm for exact polynomial optimization strengthened with Fritz John conditions'' by N. H. A. Mai\n",
    "using Oscar\n",
    "\n",
    "n=2\n",
    "m=2\n",
    "\n",
    "R, x, y, lamb, t = PolynomialRing(QQ, \"x\" => (1:n), \"y\" => (1:m), \"lamb\" => (1:m), \"t\" => (1:1))\n",
    "\n",
    "f=x[1]-5*x[2]#objective polynomial\n",
    "\n",
    "g=[x[1]^2-x[2];-x[1]^2+4*x[2];-x[2]+1]#inequality constraints\n",
    "\n",
    "\n",
    "h=[g[j]-y[j]^2 for j=1:m]#transform to equality constraints"
   ]
  },
  {
   "cell_type": "code",
   "execution_count": 41,
   "id": "da898783",
   "metadata": {},
   "outputs": [
    {
     "name": "stdout",
     "output_type": "stream",
     "text": [
      "  0.049033 seconds (51.58 k allocations: 2.806 MiB, 71.49% compilation time)\n"
     ]
    },
    {
     "data": {
      "text/plain": [
       "1-element Vector{fmpq_mpoly}:\n",
       " 100*t_{1}^2 - 25*t_{1} + 1"
      ]
     },
     "execution_count": 41,
     "metadata": {},
     "output_type": "execute_result"
    }
   ],
   "source": [
    "@time begin\n",
    "    \n",
    "#compute the set h_KKT of polynomials from Karush–Kuhn–Tucker conditions\n",
    "h_KKT=Vector{fmpq_mpoly}(undef,n)\n",
    "for i in 1:n\n",
    "    h_KKT[i]=derivative(f,i)\n",
    "end\n",
    "for j in 1:m\n",
    "    for i in 1:n\n",
    "        h_KKT[i]-=lamb[j]*derivative(g[j], i)\n",
    "    end\n",
    "end\n",
    "\n",
    "for j in 1:m\n",
    "    h_KKT=[h_KKT;lamb[j]*g[j]]\n",
    "end\n",
    "\n",
    "h=[h;h_KKT]\n",
    "\n",
    "h=[h;t[1]-f]#h=(gj(x)-yj^2,h_FJ,x_{n+1}-f)\n",
    "    \n",
    "RI = radical(ideal(R, h))#compute radical of V(h)\n",
    "#RI = ideal(R, h)\n",
    "#gens(RI)\n",
    "    \n",
    "G=groebner_basis(RI, ordering=lex(gens(R)))\n",
    "    \n",
    "#println(G)\n",
    "    \n",
    "check=1\n",
    "alpha=zeros(Int64,1)\n",
    "h_uni=Vector{fmpq_mpoly}([])\n",
    "for j=1:length(G)\n",
    "    check=1\n",
    "    for i in 1:length(G[j])\n",
    "        alpha=exponent_vector(G[j],i) \n",
    "        if sum(alpha[t] for t in setdiff(1:n+2*m+1,n+2*m+1))>0\n",
    "            check=0\n",
    "        end\n",
    "    end\n",
    "    if check==1\n",
    "        h_uni=[h_uni;G[j]]\n",
    "    end\n",
    "end\n",
    "\n",
    "h_uni# generators of the image f(S(g)\\cap V(h_FJ))\n",
    "    \n",
    "end"
   ]
  },
  {
   "cell_type": "code",
   "execution_count": 42,
   "id": "fe57c95e",
   "metadata": {},
   "outputs": [
    {
     "data": {
      "text/plain": [
       "2-element Vector{acb}:\n",
       " [0.0500000000 +/- 7.75e-11]\n",
       " [0.200000000 +/- 2.73e-10]"
      ]
     },
     "execution_count": 42,
     "metadata": {},
     "output_type": "execute_result"
    }
   ],
   "source": [
    "CC = ComplexField(64)\n",
    "C, u = PolynomialRing(CC, \"u\")\n",
    "\n",
    "m = 100*u^2 - 25*u + 1\n",
    "\n",
    "r = roots(m,isolate_real = true)"
   ]
  },
  {
   "cell_type": "code",
   "execution_count": null,
   "id": "a21d8646",
   "metadata": {},
   "outputs": [],
   "source": []
  }
 ],
 "metadata": {
  "kernelspec": {
   "display_name": "Julia 1.7.1",
   "language": "julia",
   "name": "julia-1.7"
  },
  "language_info": {
   "file_extension": ".jl",
   "mimetype": "application/julia",
   "name": "julia",
   "version": "1.7.1"
  }
 },
 "nbformat": 4,
 "nbformat_minor": 5
}
