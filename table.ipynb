{
 "cells": [
  {
   "cell_type": "code",
   "execution_count": 1,
   "id": "98d88932",
   "metadata": {},
   "outputs": [
    {
     "name": "stdout",
     "output_type": "stream",
     "text": [
      " -----    -----    -----      -      -----   \n",
      "|     |  |     |  |     |    | |    |     |  \n",
      "|     |  |        |         |   |   |     |  \n",
      "|     |   -----   |        |     |  |-----   \n",
      "|     |        |  |        |-----|  |   |    \n",
      "|     |  |     |  |     |  |     |  |    |   \n",
      " -----    -----    -----   -     -  -     -  \n",
      "\n",
      "...combining (and extending) ANTIC, GAP, Polymake and Singular\n",
      "Version\u001b[32m 0.10.2 \u001b[39m... \n",
      " ... which comes with absolutely no warranty whatsoever\n",
      "Type: '?Oscar' for more information\n",
      "(c) 2019-2022 by The Oscar Development Team\n"
     ]
    }
   ],
   "source": [
    "using Oscar"
   ]
  },
  {
   "cell_type": "code",
   "execution_count": 3,
   "id": "98aab505",
   "metadata": {},
   "outputs": [
    {
     "data": {
      "text/plain": [
       "solve_FJ (generic function with 1 method)"
      ]
     },
     "execution_count": 3,
     "metadata": {},
     "output_type": "execute_result"
    }
   ],
   "source": [
    "#define functions to solve f^* = min f(x) s.t. x in S(g)\n",
    "#input: f: objective polynomials \n",
    "#       g: inequality constraints\n",
    "#       h:= (g_j-y_j^2)\n",
    "#       R: ring of poynomials\n",
    "#       n: number of variables\n",
    "#       m: number of inequality constraints\n",
    "#       x: vector of variables\n",
    "#       lamb: vector of multipliers\n",
    "#       t: scalar variable\n",
    "#       radical_comp: compute radical\n",
    "\n",
    "#output: system of univariate polynomials whose common set of real roots contains f^*\n",
    "\n",
    "function solve_FJ(n,m,f,g,h,R,x,lamb,t;radical_comp=true)\n",
    "\n",
    "@time begin\n",
    "    \n",
    "#compute the set h_FJ of polynomials from Fritz John conditions\n",
    "h_FJ=Vector{fmpq_mpoly}(undef,n)\n",
    "for i in 1:n\n",
    "    h_FJ[i]=lamb[1]*derivative(f,i)\n",
    "end\n",
    "for j in 1:m\n",
    "    for i in 1:n\n",
    "        h_FJ[i]-=lamb[j+1]*derivative(g[j], i)\n",
    "    end\n",
    "end\n",
    "\n",
    "for j in 1:m\n",
    "    h_FJ=[h_FJ;lamb[j+1]*g[j]]\n",
    "end\n",
    "\n",
    "h_FJ=[h_FJ;1-sum(lamb.^2)]\n",
    "h=[h;h_FJ]\n",
    "\n",
    "h=[h;t[1]-f]#h=(gj(x)-yj^2,h_FJ,x_{n+1}-f)\n",
    "\n",
    "if radical_comp\n",
    "    RI = radical(ideal(R, h))#compute radical of V(h)\n",
    "else\n",
    "    RI = ideal(R, h)\n",
    "end\n",
    "#gens(RI)\n",
    "    \n",
    "G=groebner_basis(RI, ordering=lex(gens(R)))\n",
    "    \n",
    "check=1\n",
    "alpha=zeros(Int64,1)\n",
    "h_uni=Vector{fmpq_mpoly}([])\n",
    "for j=1:length(G)\n",
    "    check=1\n",
    "    for i in 1:length(G[j])\n",
    "        alpha=exponent_vector(G[j],i) \n",
    "        if sum(alpha[t] for t in setdiff(1:n+2*m+2,n+2*m+2))>0\n",
    "            check=0\n",
    "        end\n",
    "    end\n",
    "    if check==1\n",
    "        h_uni=[h_uni;G[j]]\n",
    "    end\n",
    "end\n",
    "\n",
    "println(h_uni)# generators of the image f(S(g)\\cap V(h_FJ))\n",
    "    \n",
    "end\n",
    "    \n",
    "end"
   ]
  },
  {
   "cell_type": "code",
   "execution_count": 4,
   "id": "67046575",
   "metadata": {},
   "outputs": [
    {
     "data": {
      "text/plain": [
       "solve_FJ_plus (generic function with 1 method)"
      ]
     },
     "execution_count": 4,
     "metadata": {},
     "output_type": "execute_result"
    }
   ],
   "source": [
    "function solve_FJ_plus(n,m,f,g,h,R,x,lamb,t)\n",
    "\n",
    "@time begin\n",
    "    \n",
    "#compute the set h_FJ of polynomials from Fritz John conditions\n",
    "h_FJ=Vector{fmpq_mpoly}(undef,n)\n",
    "for i in 1:n\n",
    "    h_FJ[i]=lamb[1]^2*derivative(f,i)\n",
    "end\n",
    "for j in 1:m\n",
    "    for i in 1:n\n",
    "        h_FJ[i]-=lamb[j+1]^2*derivative(g[j], i)\n",
    "    end\n",
    "end\n",
    "\n",
    "for j in 1:m\n",
    "    h_FJ=[h_FJ;lamb[j+1]^2*g[j]]\n",
    "end\n",
    "\n",
    "h_FJ=[h_FJ;1-sum(lamb.^2)]\n",
    "h=[h;h_FJ]\n",
    "\n",
    "h=[h;t[1]-f]#h=(gj(x)-yj^2,h_FJ,x_{n+1}-f)\n",
    "    \n",
    "RI = radical(ideal(R, h))#compute radical of V(h)\n",
    "#RI = ideal(R, h)\n",
    "#gens(RI)\n",
    "    \n",
    "G=groebner_basis(RI, ordering=lex(gens(R)))\n",
    "    \n",
    "check=1\n",
    "alpha=zeros(Int64,1)\n",
    "h_uni=Vector{fmpq_mpoly}([])\n",
    "for j=1:length(G)\n",
    "    check=1\n",
    "    for i in 1:length(G[j])\n",
    "        alpha=exponent_vector(G[j],i) \n",
    "        if sum(alpha[t] for t in setdiff(1:n+2*m+2,n+2*m+2))>0\n",
    "            check=0\n",
    "        end\n",
    "    end\n",
    "    if check==1\n",
    "        h_uni=[h_uni;G[j]]\n",
    "    end\n",
    "end\n",
    "\n",
    "println(h_uni)# generators of the image f(S(g)\\cap V(h_FJ))\n",
    "    \n",
    "end\n",
    "    \n",
    "end"
   ]
  },
  {
   "cell_type": "code",
   "execution_count": null,
   "id": "3ce2649a",
   "metadata": {},
   "outputs": [],
   "source": []
  },
  {
   "cell_type": "code",
   "execution_count": 5,
   "id": "cba86b6d",
   "metadata": {},
   "outputs": [
    {
     "data": {
      "text/plain": [
       "solve_KKT (generic function with 1 method)"
      ]
     },
     "execution_count": 5,
     "metadata": {},
     "output_type": "execute_result"
    }
   ],
   "source": [
    "function solve_KKT(n,m,f,g,h,R,x,lamb,t)\n",
    "\n",
    "@time begin\n",
    "    \n",
    "#compute the set h_KKT of polynomials from Karush–Kuhn–Tucker conditions\n",
    "h_KKT=Vector{fmpq_mpoly}(undef,n)\n",
    "for i in 1:n\n",
    "    h_KKT[i]=derivative(f,i)\n",
    "end\n",
    "for j in 1:m\n",
    "    for i in 1:n\n",
    "        h_KKT[i]-=lamb[j]*derivative(g[j], i)\n",
    "    end\n",
    "end\n",
    "\n",
    "for j in 1:m\n",
    "    h_KKT=[h_KKT;lamb[j]*g[j]]\n",
    "end\n",
    "\n",
    "h=[h;h_KKT]\n",
    "\n",
    "h=[h;t[1]-f]#h=(gj(x)-yj^2,h_FJ,x_{n+1}-f)\n",
    "    \n",
    "RI = radical(ideal(R, h))#compute radical of V(h)\n",
    "#RI = ideal(R, h)\n",
    "#gens(RI)\n",
    "    \n",
    "G=groebner_basis(RI, ordering=lex(gens(R)))\n",
    "    \n",
    "#println(G)\n",
    "    \n",
    "check=1\n",
    "alpha=zeros(Int64,1)\n",
    "h_uni=Vector{fmpq_mpoly}([])\n",
    "for j=1:length(G)\n",
    "    check=1\n",
    "    for i in 1:length(G[j])\n",
    "        alpha=exponent_vector(G[j],i) \n",
    "        if sum(alpha[t] for t in setdiff(1:n+2*m+1,n+2*m+1))>0\n",
    "            check=0\n",
    "        end\n",
    "    end\n",
    "    if check==1\n",
    "        h_uni=[h_uni;G[j]]\n",
    "    end\n",
    "end\n",
    "\n",
    "h_uni# generators of the image f(S(g)\\cap V(h_FJ))\n",
    "    \n",
    "end\n",
    "    \n",
    "end"
   ]
  },
  {
   "cell_type": "code",
   "execution_count": 6,
   "id": "ba6d5fa8",
   "metadata": {},
   "outputs": [
    {
     "data": {
      "text/plain": [
       "solve_KKT_plus (generic function with 1 method)"
      ]
     },
     "execution_count": 6,
     "metadata": {},
     "output_type": "execute_result"
    }
   ],
   "source": [
    "function solve_KKT_plus(n,m,f,g,h,R,x,lamb,t)\n",
    "\n",
    "@time begin\n",
    "    \n",
    "#compute the set h_KKT of polynomials from Karush–Kuhn–Tucker conditions\n",
    "h_KKT=Vector{fmpq_mpoly}(undef,n)\n",
    "for i in 1:n\n",
    "    h_KKT[i]=derivative(f,i)\n",
    "end\n",
    "for j in 1:m\n",
    "    for i in 1:n\n",
    "        h_KKT[i]-=lamb[j]^2*derivative(g[j], i)\n",
    "    end\n",
    "end\n",
    "\n",
    "for j in 1:m\n",
    "    h_KKT=[h_KKT;lamb[j]^2*g[j]]\n",
    "end\n",
    "\n",
    "h=[h;h_KKT]\n",
    "\n",
    "h=[h;t[1]-f]#h=(gj(x)-yj^2,h_FJ,x_{n+1}-f)\n",
    "    \n",
    "RI = radical(ideal(R, h))#compute radical of V(h)\n",
    "#RI = ideal(R, h)\n",
    "#gens(RI)\n",
    "    \n",
    "G=groebner_basis(RI, ordering=lex(gens(R)))\n",
    "    \n",
    "#println(G)\n",
    "    \n",
    "check=1\n",
    "alpha=zeros(Int64,1)\n",
    "h_uni=Vector{fmpq_mpoly}([])\n",
    "for j=1:length(G)\n",
    "    check=1\n",
    "    for i in 1:length(G[j])\n",
    "        alpha=exponent_vector(G[j],i) \n",
    "        if sum(alpha[t] for t in setdiff(1:n+2*m+1,n+2*m+1))>0\n",
    "            check=0\n",
    "        end\n",
    "    end\n",
    "    if check==1\n",
    "        h_uni=[h_uni;G[j]]\n",
    "    end\n",
    "end\n",
    "\n",
    "h_uni# generators of the image f(S(g)\\cap V(h_FJ))\n",
    "    \n",
    "end\n",
    "    \n",
    "end"
   ]
  },
  {
   "cell_type": "code",
   "execution_count": 7,
   "id": "f01273fc",
   "metadata": {},
   "outputs": [
    {
     "data": {
      "text/plain": [
       "proj_coordinate (generic function with 1 method)"
      ]
     },
     "execution_count": 7,
     "metadata": {},
     "output_type": "execute_result"
    }
   ],
   "source": [
    "function proj_coordinate(n,m,f,g,h,R,x,t,r;radical_comp=true)\n",
    "\n",
    "@time begin\n",
    "    \n",
    "#compute the set h_FJ of polynomials from Fritz John conditions\n",
    "h_FJ=Vector{fmpq_mpoly}(undef,n)\n",
    "for i in 1:n\n",
    "    h_FJ[i]=lamb[1]*derivative(f,i)\n",
    "end\n",
    "for j in 1:m\n",
    "    for i in 1:n\n",
    "        h_FJ[i]-=lamb[j+1]*derivative(g[j], i)\n",
    "    end\n",
    "end\n",
    "\n",
    "for j in 1:m\n",
    "    h_FJ=[h_FJ;lamb[j+1]*g[j]]\n",
    "end\n",
    "\n",
    "h_FJ=[h_FJ;1-sum(lamb.^2)]\n",
    "h=[h;h_FJ]\n",
    "\n",
    "h=[h;t[1]-x[r];f]#h=(gj(x)-yj^2,h_FJ,x_{n+1}-f)\n",
    "\n",
    "if radical_comp\n",
    "    RI = radical(ideal(R, h))#compute radical of V(h)\n",
    "else\n",
    "    RI = ideal(R, h)\n",
    "end\n",
    "#gens(RI)\n",
    "    \n",
    "G=groebner_basis(RI, ordering=lex(gens(R)))\n",
    "    \n",
    "check=1\n",
    "alpha=zeros(Int64,1)\n",
    "h_uni=Vector{fmpq_mpoly}([])\n",
    "for j=1:length(G)\n",
    "    check=1\n",
    "    for i in 1:length(G[j])\n",
    "        alpha=exponent_vector(G[j],i) \n",
    "        if sum(alpha[t] for t in setdiff(1:n+2*m+2,n+2*m+2))>0\n",
    "            check=0\n",
    "        end\n",
    "    end\n",
    "    if check==1\n",
    "        h_uni=[h_uni;G[j]]\n",
    "    end\n",
    "end\n",
    "\n",
    "println(h_uni)# generators of the image f(S(g)\\cap V(h_FJ))\n",
    "    \n",
    "end\n",
    "    \n",
    "end"
   ]
  },
  {
   "cell_type": "code",
   "execution_count": null,
   "id": "ca8d075f",
   "metadata": {},
   "outputs": [],
   "source": []
  },
  {
   "cell_type": "code",
   "execution_count": null,
   "id": "e5f7ea89",
   "metadata": {},
   "outputs": [],
   "source": []
  },
  {
   "cell_type": "code",
   "execution_count": null,
   "id": "2d5c9718",
   "metadata": {},
   "outputs": [],
   "source": []
  },
  {
   "cell_type": "code",
   "execution_count": 7,
   "id": "02467829",
   "metadata": {},
   "outputs": [
    {
     "name": "stdout",
     "output_type": "stream",
     "text": [
      "fmpq_mpoly[t_{1}]\n",
      "  3.412440 seconds (2.61 M allocations: 140.025 MiB, 98.98% compilation time)\n"
     ]
    }
   ],
   "source": [
    "#Example 1 in Table 1 of ``A symbolic algorithm for exact polynomial optimization strengthened with Fritz John conditions'' by N. H. A. Mai\n",
    "using Oscar\n",
    "\n",
    "n=2\n",
    "m=2\n",
    "\n",
    "R, x, y, lamb, t = PolynomialRing(QQ, \"x\" => (1:n), \"y\" => (1:m), \"lamb\" => (1:m+1), \"t\" => (1:1))\n",
    "\n",
    "f=x[2]#objective polynomial\n",
    "g=[-x[1];x[1]-x[2]^2]#inequality constraints\n",
    "\n",
    "\n",
    "h=[g[j]-y[j]^2 for j=1:m]#transform to equality constraints\n",
    "\n",
    "solve_FJ(n,m,f,g,h,R,x,lamb,t)"
   ]
  },
  {
   "cell_type": "code",
   "execution_count": 8,
   "id": "8c1ff4cb",
   "metadata": {},
   "outputs": [
    {
     "data": {
      "text/plain": [
       "1-element Vector{acb}:\n",
       " 0"
      ]
     },
     "execution_count": 8,
     "metadata": {},
     "output_type": "execute_result"
    }
   ],
   "source": [
    "CC = ComplexField(64)\n",
    "C, u = PolynomialRing(CC, \"u\")\n",
    "\n",
    "m = u\n",
    "\n",
    "r = roots(m)"
   ]
  },
  {
   "cell_type": "code",
   "execution_count": 9,
   "id": "236eb8d4",
   "metadata": {},
   "outputs": [
    {
     "name": "stdout",
     "output_type": "stream",
     "text": [
      "  0.017167 seconds (43.94 k allocations: 1.026 MiB)\n"
     ]
    },
    {
     "data": {
      "text/plain": [
       "1-element Vector{fmpq_mpoly}:\n",
       " 100*t_{1}^6 + 1975*t_{1}^5 + 14001*t_{1}^4 + 41395*t_{1}^3 + 39295*t_{1}^2 - 12150*t_{1} + 504"
      ]
     },
     "execution_count": 9,
     "metadata": {},
     "output_type": "execute_result"
    }
   ],
   "source": [
    "#Example 2 in Table 1 of ``A symbolic algorithm for exact polynomial optimization strengthened with Fritz John conditions'' by N. H. A. Mai\n",
    "using Oscar\n",
    "\n",
    "n=2\n",
    "m=3\n",
    "\n",
    "R, x, y, lamb, t = PolynomialRing(QQ, \"x\" => (1:n), \"y\" => (1:m), \"lamb\" => (1:m), \"t\" => (1:1))\n",
    "\n",
    "f=x[1]-5*x[2]#objective polynomial\n",
    "\n",
    "g=[x[1]^2-x[2];-x[1]^2+4*x[2];-x[2]+1]#inequality constraints\n",
    "\n",
    "\n",
    "h=[g[j]-y[j]^2 for j=1:m]#transform to equality constraints\n",
    "\n",
    "solve_KKT(n,m,f,g,h,R,x,lamb,t)"
   ]
  },
  {
   "cell_type": "code",
   "execution_count": 10,
   "id": "403114f9",
   "metadata": {},
   "outputs": [
    {
     "data": {
      "text/plain": [
       "6-element Vector{acb}:\n",
       " [-7.00000 +/- 3.20e-6]\n",
       " [-6.00000 +/- 4.11e-6]\n",
       " [-4.00000 +/- 1.24e-6]\n",
       " [-3.000000 +/- 5.76e-7]\n",
       " [0.050000000 +/- 4.06e-10]\n",
       " [0.200000000 +/- 9.30e-10]"
      ]
     },
     "execution_count": 10,
     "metadata": {},
     "output_type": "execute_result"
    }
   ],
   "source": [
    "CC = ComplexField(64)\n",
    "C, u = PolynomialRing(CC, \"u\")\n",
    "\n",
    "m = 100*u^6 + 1975*u^5 + 14001*u^4 + 41395*u^3 + 39295*u^2 - 12150*u + 504\n",
    "\n",
    "r = roots(m,isolate_real = true)"
   ]
  },
  {
   "cell_type": "code",
   "execution_count": 11,
   "id": "dee6f6a6",
   "metadata": {},
   "outputs": [
    {
     "name": "stdout",
     "output_type": "stream",
     "text": [
      "fmpq_mpoly[27*t_{1}^4 + 59*t_{1}^3 + 60*t_{1}^2 + 28*t_{1}]\n",
      "  0.014648 seconds (12.04 k allocations: 301.051 KiB, 44.32% compilation time)\n"
     ]
    }
   ],
   "source": [
    "#[11, Example 3] in Table 1 of ``A symbolic algorithm for exact polynomial optimization strengthened with Fritz John conditions'' by N. H. A. Mai\n",
    "using Oscar\n",
    "\n",
    "n=2\n",
    "m=1\n",
    "\n",
    "R, x, y, lamb, t = PolynomialRing(QQ, \"x\" => (1:n), \"y\" => (1:m), \"lamb\" => (1:m+1), \"t\" => (1:1))\n",
    "\n",
    "f=(x[1]+1)^2+x[2]^2-1\n",
    "\n",
    "g=[x[1]^3-x[2]^2]\n",
    "\n",
    "\n",
    "h=[g[j]-y[j]^2 for j=1:m]#transform to equality constraints\n",
    "\n",
    "solve_FJ(n,m,f,g,h,R,x,lamb,t,radical_comp=true)"
   ]
  },
  {
   "cell_type": "code",
   "execution_count": 12,
   "id": "80d43021",
   "metadata": {},
   "outputs": [
    {
     "data": {
      "text/plain": [
       "4-element Vector{acb}:\n",
       " [-1.0000000 +/- 5.42e-9]\n",
       " [+/- 3.16e-29]\n",
       " [-0.5925926 +/- 1.65e-8] + [0.8281733 +/- 3.42e-8]*im\n",
       " [-0.5925926 +/- 1.46e-8] + [-0.8281733 +/- 3.26e-8]*im"
      ]
     },
     "execution_count": 12,
     "metadata": {},
     "output_type": "execute_result"
    }
   ],
   "source": [
    "CC = ComplexField(64)\n",
    "C, u = PolynomialRing(CC, \"u\")\n",
    "\n",
    "m = 27*u^4 + 59*u^3 + 60*u^2 + 28*u\n",
    "\n",
    "r = roots(m)"
   ]
  },
  {
   "cell_type": "code",
   "execution_count": 13,
   "id": "5ec45686",
   "metadata": {},
   "outputs": [
    {
     "name": "stdout",
     "output_type": "stream",
     "text": [
      "fmpq_mpoly[t_{1} + 1]\n",
      "  0.169953 seconds (148.73 k allocations: 8.110 MiB, 97.01% compilation time)\n"
     ]
    }
   ],
   "source": [
    "#The case t=-1\n",
    "#Finding x_1^*\n",
    "\n",
    "using Oscar\n",
    "\n",
    "n=2\n",
    "m=1\n",
    "\n",
    "R, x, y, lamb, t = PolynomialRing(QQ, \"x\" => (1:n), \"y\" => (1:m), \"lamb\" => (1:m+1), \"t\" => (1:1))\n",
    "\n",
    "f=(x[1]+1)^2+x[2]^2\n",
    "\n",
    "g=[x[1]^3-x[2]^2]\n",
    "\n",
    "\n",
    "h=[g[j]-y[j]^2 for j=1:m]#transform to equality constraints\n",
    "\n",
    "proj_coordinate(n,m,f,g,h,R,x,t,1)"
   ]
  },
  {
   "cell_type": "code",
   "execution_count": 14,
   "id": "f8cf02e3",
   "metadata": {},
   "outputs": [
    {
     "data": {
      "text/plain": [
       "1-element Vector{acb}:\n",
       " -1.0000000000000000000"
      ]
     },
     "execution_count": 14,
     "metadata": {},
     "output_type": "execute_result"
    }
   ],
   "source": [
    "CC = ComplexField(64)\n",
    "C, u = PolynomialRing(CC, \"u\")\n",
    "\n",
    "m = u + 1\n",
    "\n",
    "r = roots(m)"
   ]
  },
  {
   "cell_type": "code",
   "execution_count": 15,
   "id": "197f0b22",
   "metadata": {},
   "outputs": [
    {
     "name": "stdout",
     "output_type": "stream",
     "text": [
      "fmpq_mpoly[t_{1}]\n",
      "  0.005697 seconds (1.66 k allocations: 56.930 KiB)\n"
     ]
    }
   ],
   "source": [
    "#The case t=-1\n",
    "#Finding x_2^*\n",
    "\n",
    "using Oscar\n",
    "\n",
    "n=2\n",
    "m=1\n",
    "\n",
    "R, x, y, lamb, t = PolynomialRing(QQ, \"x\" => (1:n), \"y\" => (1:m), \"lamb\" => (1:m+1), \"t\" => (1:1))\n",
    "\n",
    "f=(x[1]+1)^2+x[2]^2\n",
    "\n",
    "g=[x[1]^3-x[2]^2]\n",
    "\n",
    "\n",
    "h=[g[j]-y[j]^2 for j=1:m]#transform to equality constraints\n",
    "\n",
    "proj_coordinate(n,m,f,g,h,R,x,t,2)"
   ]
  },
  {
   "cell_type": "code",
   "execution_count": 16,
   "id": "8f188a1b",
   "metadata": {},
   "outputs": [
    {
     "data": {
      "text/plain": [
       "1-element Vector{acb}:\n",
       " 0"
      ]
     },
     "execution_count": 16,
     "metadata": {},
     "output_type": "execute_result"
    }
   ],
   "source": [
    "CC = ComplexField(64)\n",
    "C, u = PolynomialRing(CC, \"u\")\n",
    "\n",
    "m = u\n",
    "\n",
    "r = roots(m)"
   ]
  },
  {
   "cell_type": "code",
   "execution_count": 17,
   "id": "dbe5546d",
   "metadata": {},
   "outputs": [
    {
     "name": "stdout",
     "output_type": "stream",
     "text": [
      "fmpq_mpoly[t_{1}]\n",
      "  0.005203 seconds (1.55 k allocations: 53.898 KiB)\n"
     ]
    }
   ],
   "source": [
    "#The case t=0\n",
    "#Finding x_1^*\n",
    "\n",
    "using Oscar\n",
    "\n",
    "n=2\n",
    "m=1\n",
    "\n",
    "R, x, y, lamb, t = PolynomialRing(QQ, \"x\" => (1:n), \"y\" => (1:m), \"lamb\" => (1:m+1), \"t\" => (1:1))\n",
    "\n",
    "f=(x[1]+1)^2+x[2]^2-1\n",
    "\n",
    "g=[x[1]^3-x[2]^2]\n",
    "\n",
    "\n",
    "h=[g[j]-y[j]^2 for j=1:m]#transform to equality constraints\n",
    "\n",
    "proj_coordinate(n,m,f,g,h,R,x,t,1)"
   ]
  },
  {
   "cell_type": "code",
   "execution_count": 18,
   "id": "e19716e3",
   "metadata": {},
   "outputs": [
    {
     "data": {
      "text/plain": [
       "1-element Vector{acb}:\n",
       " 0"
      ]
     },
     "execution_count": 18,
     "metadata": {},
     "output_type": "execute_result"
    }
   ],
   "source": [
    "CC = ComplexField(64)\n",
    "C, u = PolynomialRing(CC, \"u\")\n",
    "\n",
    "m = u\n",
    "\n",
    "r = roots(m)"
   ]
  },
  {
   "cell_type": "code",
   "execution_count": 19,
   "id": "3f516e88",
   "metadata": {},
   "outputs": [
    {
     "name": "stdout",
     "output_type": "stream",
     "text": [
      "fmpq_mpoly[t_{1}]\n",
      "  0.004928 seconds (1.55 k allocations: 53.898 KiB)\n"
     ]
    }
   ],
   "source": [
    "#The case t=0\n",
    "#Finding x_2^*\n",
    "\n",
    "using Oscar\n",
    "\n",
    "n=2\n",
    "m=1\n",
    "\n",
    "R, x, y, lamb, t = PolynomialRing(QQ, \"x\" => (1:n), \"y\" => (1:m), \"lamb\" => (1:m+1), \"t\" => (1:1))\n",
    "\n",
    "f=(x[1]+1)^2+x[2]^2-1\n",
    "\n",
    "g=[x[1]^3-x[2]^2]\n",
    "\n",
    "\n",
    "h=[g[j]-y[j]^2 for j=1:m]#transform to equality constraints\n",
    "\n",
    "proj_coordinate(n,m,f,g,h,R,x,t,2)"
   ]
  },
  {
   "cell_type": "code",
   "execution_count": 20,
   "id": "f3cb35ee",
   "metadata": {},
   "outputs": [
    {
     "data": {
      "text/plain": [
       "1-element Vector{acb}:\n",
       " 0"
      ]
     },
     "execution_count": 20,
     "metadata": {},
     "output_type": "execute_result"
    }
   ],
   "source": [
    "CC = ComplexField(64)\n",
    "C, u = PolynomialRing(CC, \"u\")\n",
    "\n",
    "m = u\n",
    "\n",
    "r = roots(m)"
   ]
  },
  {
   "cell_type": "code",
   "execution_count": 21,
   "id": "0d034e72",
   "metadata": {},
   "outputs": [
    {
     "name": "stdout",
     "output_type": "stream",
     "text": [
      "fmpq_mpoly[t_{1}]\n",
      "  0.041001 seconds (2.40 k allocations: 90.219 KiB)\n"
     ]
    }
   ],
   "source": [
    "#[11, Example 5] in Table 1 of ``A symbolic algorithm for exact polynomial optimization strengthened with Fritz John conditions'' by N. H. A. Mai\n",
    "using Oscar\n",
    "\n",
    "n=2\n",
    "m=1\n",
    "\n",
    "R, x, y, lamb, t = PolynomialRing(QQ, \"x\" => (1:n), \"y\" => (1:m), \"lamb\" => (1:m+1), \"t\" => (1:1))\n",
    "\n",
    "f=x[1]-x[2]\n",
    "\n",
    "g=[(x[1]-x[2])^3]\n",
    "\n",
    "\n",
    "h=[g[j]-y[j]^2 for j=1:m]#transform to equality constraints\n",
    "\n",
    "solve_FJ_plus(n,m,f,g,h,R,x,lamb,t)"
   ]
  },
  {
   "cell_type": "code",
   "execution_count": null,
   "id": "b5fef7f5",
   "metadata": {},
   "outputs": [],
   "source": []
  },
  {
   "cell_type": "code",
   "execution_count": 22,
   "id": "5a8a0c5b",
   "metadata": {},
   "outputs": [
    {
     "data": {
      "text/plain": [
       "1-element Vector{acb}:\n",
       " 0"
      ]
     },
     "execution_count": 22,
     "metadata": {},
     "output_type": "execute_result"
    }
   ],
   "source": [
    "CC = ComplexField(64)\n",
    "C, u = PolynomialRing(CC, \"u\")\n",
    "\n",
    "m = u\n",
    "\n",
    "r = roots(m)"
   ]
  },
  {
   "cell_type": "code",
   "execution_count": null,
   "id": "575cc3d3",
   "metadata": {},
   "outputs": [],
   "source": []
  },
  {
   "cell_type": "code",
   "execution_count": 23,
   "id": "59030cd8",
   "metadata": {},
   "outputs": [
    {
     "name": "stdout",
     "output_type": "stream",
     "text": [
      "  0.059155 seconds (17.23 k allocations: 783.531 KiB)\n"
     ]
    },
    {
     "data": {
      "text/plain": [
       "1-element Vector{fmpq_mpoly}:\n",
       " t_{1}^3 - 62*t_{1}^2 - 63*t_{1}"
      ]
     },
     "execution_count": 23,
     "metadata": {},
     "output_type": "execute_result"
    }
   ],
   "source": [
    "#[6, Example A2] in Table 1 of ``A symbolic algorithm for exact polynomial optimization strengthened with Fritz John conditions'' by N. H. A. Mai\n",
    "using Oscar\n",
    "\n",
    "n=2\n",
    "m=1\n",
    "\n",
    "R, x, y, lamb, t = PolynomialRing(QQ, \"x\" => (1:n), \"y\" => (1:m), \"lamb\" => (1:m), \"t\" => (1:1))\n",
    "\n",
    "f=(x[1]^2+x[2]^2-2)*(x[1]^2+x[2]^2)#objective polynomial\n",
    "\n",
    "g=[(x[1]^2+x[2]^2-2)*(x[1]-3)]#inequality constraints\n",
    "\n",
    "h=[g[j]-y[j]^2 for j=1:m]#transform to equality constraints\n",
    "\n",
    "solve_KKT(n,m,f,g,h,R,x,lamb,t)"
   ]
  },
  {
   "cell_type": "code",
   "execution_count": 24,
   "id": "e3ec0afa",
   "metadata": {},
   "outputs": [
    {
     "data": {
      "text/plain": [
       "3-element Vector{acb}:\n",
       " [-1.00000000 +/- 1.40e-9]\n",
       " [+/- 6.08e-29]\n",
       " [63.00000000 +/- 1.40e-9]"
      ]
     },
     "execution_count": 24,
     "metadata": {},
     "output_type": "execute_result"
    }
   ],
   "source": [
    "CC = ComplexField(64)\n",
    "C, u = PolynomialRing(CC, \"u\")\n",
    "\n",
    "m = u^3 - 62*u^2 - 63*u\n",
    "\n",
    "r = roots(m,isolate_real = true)"
   ]
  },
  {
   "cell_type": "code",
   "execution_count": null,
   "id": "0f7192b5",
   "metadata": {},
   "outputs": [],
   "source": []
  },
  {
   "cell_type": "code",
   "execution_count": 25,
   "id": "0cf7a89a",
   "metadata": {},
   "outputs": [
    {
     "name": "stdout",
     "output_type": "stream",
     "text": [
      "  0.157770 seconds (1.44 M allocations: 31.932 MiB)\n"
     ]
    },
    {
     "data": {
      "text/plain": [
       "1-element Vector{fmpq_mpoly}:\n",
       " 49207500000000000*t_{1}^11 - 81961242187500000*t_{1}^10 + 35401891640625000*t_{1}^9 - 5747811890625000*t_{1}^8 + 576144305156250*t_{1}^7 - 50773802062500*t_{1}^6 + 2487391238125*t_{1}^5 - 34983679000*t_{1}^4 + 1586740350*t_{1}^3 - 4087040*t_{1}^2 + 182336*t_{1}"
      ]
     },
     "execution_count": 25,
     "metadata": {},
     "output_type": "execute_result"
    }
   ],
   "source": [
    "#[11, Example 11] in Table 1 of ``A symbolic algorithm for exact polynomial optimization strengthened with Fritz John conditions'' by N. H. A. Mai\n",
    "using Oscar\n",
    "\n",
    "n=3\n",
    "m=1\n",
    "\n",
    "R, x, y, lamb, t = PolynomialRing(QQ, \"x\" => (1:n), \"y\" => (1:m), \"lamb\" => (1:m), \"t\" => (1:1))\n",
    "\n",
    "eps=1//10\n",
    "\n",
    "f=x[1]^4*x[2]^2+x[1]^2*x[2]^4+x[3]^6-3*x[1]^2*x[2]^2*x[3]^2+eps*(x[1]^2+x[2]^2+x[3]^2) \n",
    "g=[1-x[1]^2-x[2]^2-x[3]^2]\n",
    "\n",
    "h=[g[j]-y[j]^2 for j=1:m]#transform to equality constraints\n",
    "\n",
    "solve_KKT(n,m,f,g,h,R,x,lamb,t)"
   ]
  },
  {
   "cell_type": "code",
   "execution_count": 26,
   "id": "b52b3330",
   "metadata": {},
   "outputs": [
    {
     "data": {
      "text/plain": [
       "11-element Vector{acb}:\n",
       " [+/- 1.22e-11]\n",
       " [0.100000 +/- 2.57e-8]\n",
       " [0.1156250 +/- 3.35e-8]\n",
       " [0.3500000 +/- 2.03e-8]\n",
       " [1.1000000 +/- 1.89e-8]\n",
       " [+/- 1.82e-10] + [0.012171612 +/- 5.68e-10]*im\n",
       " [+/- 1.22e-10] + [-0.012171612 +/- 5.12e-10]*im\n",
       " [+/- 3.29e-10] + [0.024343225 +/- 5.47e-10]*im\n",
       " [+/- 3.29e-10] + [-0.024343225 +/- 5.47e-10]*im\n",
       " [+/- 1.32e-9] + [0.09737290 +/- 2.18e-9]*im\n",
       " [+/- 1.35e-9] + [-0.09737290 +/- 2.21e-9]*im"
      ]
     },
     "execution_count": 26,
     "metadata": {},
     "output_type": "execute_result"
    }
   ],
   "source": [
    "CC = ComplexField(64)\n",
    "C, u = PolynomialRing(CC, \"u\")\n",
    "\n",
    "m = 49207500000000000*u^11 - 81961242187500000*u^10 + 35401891640625000*u^9 - 5747811890625000*u^8 + 576144305156250*u^7 - 50773802062500*u^6 + 2487391238125*u^5 - 34983679000*u^4 + 1586740350*u^3 - 4087040*u^2 + 182336*u\n",
    "\n",
    "r = roots(m,isolate_real = true)"
   ]
  },
  {
   "cell_type": "code",
   "execution_count": 27,
   "id": "4174e86b",
   "metadata": {},
   "outputs": [
    {
     "name": "stdout",
     "output_type": "stream",
     "text": [
      "  0.013638 seconds (20.35 k allocations: 447.516 KiB)\n"
     ]
    },
    {
     "data": {
      "text/plain": [
       "1-element Vector{fmpq_mpoly}:\n",
       " 54*t_{1}^4 - 83*t_{1}^3 + 30*t_{1}^2 - t_{1}"
      ]
     },
     "execution_count": 27,
     "metadata": {},
     "output_type": "execute_result"
    }
   ],
   "source": [
    "#[11, Example 12] in Table 1 of ``A symbolic algorithm for exact polynomial optimization strengthened with Fritz John conditions'' by N. H. A. Mai\n",
    "using Oscar\n",
    "\n",
    "n=2\n",
    "m=3\n",
    "\n",
    "R, x, y, lamb, t = PolynomialRing(QQ, \"x\" => (1:n), \"y\" => (1:m), \"lamb\" => (1:m), \"t\" => (1:1))\n",
    "\n",
    "\n",
    "f=x[1]*x[2]+x[1]^3+x[2]^3\n",
    "g=[x[1];x[2];1-x[1]-x[2]]\n",
    "\n",
    "h=[g[j]-y[j]^2 for j=1:m]#transform to equality constraints\n",
    "\n",
    "solve_KKT(n,m,f,g,h,R,x,lamb,t)"
   ]
  },
  {
   "cell_type": "code",
   "execution_count": 28,
   "id": "cf2f2d91",
   "metadata": {},
   "outputs": [
    {
     "data": {
      "text/plain": [
       "4-element Vector{acb}:\n",
       " 0\n",
       " [0.037037037 +/- 1.73e-10]\n",
       " [0.50000000 +/- 3.52e-9]\n",
       " 1.0000000000000000000"
      ]
     },
     "execution_count": 28,
     "metadata": {},
     "output_type": "execute_result"
    }
   ],
   "source": [
    "CC = ComplexField(64)\n",
    "C, u = PolynomialRing(CC, \"u\")\n",
    "\n",
    "m = 54*u^4 - 83*u^3 + 30*u^2 -u\n",
    "\n",
    "r = roots(m,isolate_real = true)"
   ]
  },
  {
   "cell_type": "code",
   "execution_count": 29,
   "id": "74091bf6",
   "metadata": {},
   "outputs": [
    {
     "name": "stdout",
     "output_type": "stream",
     "text": [
      "  1.143862 seconds (724.93 k allocations: 14.630 MiB, 0.44% compilation time)\n"
     ]
    },
    {
     "data": {
      "text/plain": [
       "1-element Vector{fmpq_mpoly}:\n",
       " 64*t_{1}^4 - 271*t_{1}^3 + 234*t_{1}^2 - 27*t_{1}"
      ]
     },
     "execution_count": 29,
     "metadata": {},
     "output_type": "execute_result"
    }
   ],
   "source": [
    "#[11, Example 13] in Table 1 of ``A symbolic algorithm for exact polynomial optimization strengthened with Fritz John conditions'' by N. H. A. Mai\n",
    "using Oscar\n",
    "\n",
    "n=3\n",
    "m=3\n",
    "\n",
    "R, x, y, lamb, t = PolynomialRing(QQ, \"x\" => (1:n), \"y\" => (1:m), \"lamb\" => (1:m), \"t\" => (1:1))\n",
    "\n",
    "\n",
    "f=x[1]^4*x[2]^2+x[2]^4*x[3]^2+x[3]^4*x[1]^2-3*x[1]^2*x[2]^2*x[3]^2\n",
    "g=[1-x[1]^2;1-x[2]^2;1-x[3]^2]\n",
    "\n",
    "h=[g[j]-y[j]^2 for j=1:m]#transform to equality constraints\n",
    "\n",
    "solve_KKT_plus(n,m,f,g,h,R,x,lamb,t)"
   ]
  },
  {
   "cell_type": "code",
   "execution_count": 30,
   "id": "cd2e5ba7",
   "metadata": {},
   "outputs": [
    {
     "data": {
      "text/plain": [
       "4-element Vector{acb}:\n",
       " [+/- 6.43e-26]\n",
       " [0.13616744 +/- 3.33e-9]\n",
       " [1.0000000 +/- 6.40e-9]\n",
       " [3.09820756 +/- 7.77e-9]"
      ]
     },
     "execution_count": 30,
     "metadata": {},
     "output_type": "execute_result"
    }
   ],
   "source": [
    "CC = ComplexField(64)\n",
    "C, u = PolynomialRing(CC, \"u\")\n",
    "\n",
    "m = 64*u^4 - 271*u^3 + 234*u^2 - 27*u\n",
    "\n",
    "r = roots(m,isolate_real = true)"
   ]
  },
  {
   "cell_type": "code",
   "execution_count": 40,
   "id": "9721a21e",
   "metadata": {},
   "outputs": [
    {
     "name": "stdout",
     "output_type": "stream",
     "text": [
      "  0.093578 seconds (2.72 k allocations: 95.016 KiB)\n"
     ]
    },
    {
     "data": {
      "text/plain": [
       "1-element Vector{fmpq_mpoly}:\n",
       " t_{1}"
      ]
     },
     "execution_count": 40,
     "metadata": {},
     "output_type": "execute_result"
    }
   ],
   "source": [
    "#[12, Example 5] in Table 1 of ``A symbolic algorithm for exact polynomial optimization strengthened with Fritz John conditions'' by N. H. A. Mai\n",
    "using Oscar\n",
    "\n",
    "n=2\n",
    "m=3\n",
    "\n",
    "R, x, y, lamb, t = PolynomialRing(QQ, \"x\" => (1:n), \"y\" => (1:m), \"lamb\" => (1:m+1), \"t\" => (1:1))\n",
    "\n",
    "\n",
    "f=x[1]+x[2]\n",
    "g=[x[1];x[2];-x[1]*x[2]]\n",
    "\n",
    "h=[g[j]-y[j]^2 for j=1:m]#transform to equality constraints\n",
    "\n",
    "solve_KKT_plus(n,m,f,g,h,R,x,lamb,t)"
   ]
  },
  {
   "cell_type": "code",
   "execution_count": null,
   "id": "7b9a5aa3",
   "metadata": {},
   "outputs": [],
   "source": []
  },
  {
   "cell_type": "code",
   "execution_count": 52,
   "id": "a231d495",
   "metadata": {},
   "outputs": [
    {
     "name": "stdout",
     "output_type": "stream",
     "text": [
      "fmpq_mpoly[12544*t_{1}^25 - 404544*t_{1}^23 + 5722416*t_{1}^21 - 46888716*t_{1}^19 + 248061620*t_{1}^17 - 896757033*t_{1}^15 + 2295187042*t_{1}^13 - 4262362971*t_{1}^11 + 5819482184*t_{1}^9 - 5801398680*t_{1}^7 + 4059214650*t_{1}^5 - 1806273000*t_{1}^3 + 388800000*t_{1}]\n",
      " 96.969092 seconds (63.29 M allocations: 109.773 GiB, 5.93% gc time)\n"
     ]
    }
   ],
   "source": [
    "#Example 3 in Table 1 of ``A symbolic algorithm for exact polynomial optimization strengthened with Fritz John conditions'' by N. H. A. Mai\n",
    "using Oscar\n",
    "\n",
    "n=2\n",
    "m=2*n+1\n",
    "\n",
    "R, x, y, lamb, t = PolynomialRing(QQ, \"x\" => (1:n), \"y\" => (1:m), \"lamb\" => (1:m+1), \"t\" => (1:1))\n",
    "\n",
    "f=sum(x)\n",
    "M=[-2  -1;\n",
    " -1  -4]\n",
    "q=-M*ones(Int64,n)\n",
    "g=[x;M*(x.^2)+q;-sum(x[j]^2*(sum(M[j,r]*x[r]^2 for r=1:n)+q[j]) for j=1:n)]\n",
    "\n",
    "h=[g[j]-y[j]^2 for j=1:m]#transform to equality constraints\n",
    "\n",
    "solve_FJ(n,m,f,g,h,R,x,lamb,t)"
   ]
  },
  {
   "cell_type": "code",
   "execution_count": 49,
   "id": "22c45a87",
   "metadata": {},
   "outputs": [
    {
     "data": {
      "text/plain": [
       "2-element Vector{Int64}:\n",
       " 3\n",
       " 5"
      ]
     },
     "execution_count": 49,
     "metadata": {},
     "output_type": "execute_result"
    }
   ],
   "source": [
    "q"
   ]
  },
  {
   "cell_type": "code",
   "execution_count": 53,
   "id": "30629a2f",
   "metadata": {},
   "outputs": [
    {
     "data": {
      "text/plain": [
       "25-element Vector{acb}:\n",
       " [-2.500000000000 +/- 1.25e-13]\n",
       " [-2.23606797750 +/- 3.05e-12]\n",
       " [-2.1213203436 +/- 5.16e-11]\n",
       " [-2.0225705874 +/- 7.44e-11]\n",
       " [-2.0000000000 +/- 2.88e-11]\n",
       " [-1.732050807569 +/- 4.68e-13]\n",
       " [-1.2247448713916 +/- 5.06e-14]\n",
       " [-1.1180339887499 +/- 2.19e-14]\n",
       " [+/- 1.24e-62]\n",
       " [1.1180339887499 +/- 2.24e-14]\n",
       " [1.2247448713916 +/- 4.09e-14]\n",
       " [1.732050807569 +/- 4.62e-13]\n",
       " [2.0000000000 +/- 2.76e-11]\n",
       " [2.0225705874 +/- 8.12e-11]\n",
       " [2.1213203436 +/- 5.23e-11]\n",
       " [2.23606797750 +/- 2.68e-12]\n",
       " [2.500000000000 +/- 1.08e-13]\n",
       " [-1.0282232959291 +/- 2.43e-14] + [0.3780917977261 +/- 1.76e-14]*im\n",
       " [-1.0282232959291 +/- 2.60e-14] + [-0.3780917977261 +/- 1.93e-14]*im\n",
       " [1.0282232959291 +/- 2.35e-14] + [0.3780917977261 +/- 1.67e-14]*im\n",
       " [1.0282232959291 +/- 2.35e-14] + [-0.3780917977261 +/- 1.67e-14]*im\n",
       " [-0.92321492049484 +/- 8.33e-15] + [-0.66106839191873 +/- 9.09e-15]*im\n",
       " [-0.92321492049484 +/- 8.83e-15] + [0.66106839191873 +/- 9.58e-15]*im\n",
       " [0.92321492049484 +/- 7.72e-15] + [0.66106839191873 +/- 8.48e-15]*im\n",
       " [0.92321492049484 +/- 8.83e-15] + [-0.66106839191873 +/- 9.58e-15]*im"
      ]
     },
     "execution_count": 53,
     "metadata": {},
     "output_type": "execute_result"
    }
   ],
   "source": [
    "CC = ComplexField(64)\n",
    "C, u = PolynomialRing(CC, \"u\")\n",
    "\n",
    "unipol = 12544*u^25 - 404544*u^23 + 5722416*u^21 - 46888716*u^19 + 248061620*u^17 - 896757033*u^15 + 2295187042*u^13 - 4262362971*u^11 + 5819482184*u^9 - 5801398680*u^7 + 4059214650*u^5 - 1806273000*u^3 + 388800000*u\n",
    "\n",
    "r = roots(unipol,isolate_real = true)"
   ]
  },
  {
   "cell_type": "code",
   "execution_count": null,
   "id": "a0bccdc3",
   "metadata": {},
   "outputs": [],
   "source": []
  },
  {
   "cell_type": "code",
   "execution_count": 54,
   "id": "dc2e4e12",
   "metadata": {},
   "outputs": [
    {
     "name": "stdout",
     "output_type": "stream",
     "text": [
      "fmpq_mpoly[t_{1}^3 - t_{1}]\n",
      "  0.180915 seconds (41.30 k allocations: 2.437 MiB)\n"
     ]
    }
   ],
   "source": [
    "#The case t=0\n",
    "#Finding x_1^*\n",
    "\n",
    "using Oscar\n",
    "\n",
    "n=2\n",
    "m=2*n+1\n",
    "\n",
    "R, x, y, lamb, t = PolynomialRing(QQ, \"x\" => (1:n), \"y\" => (1:m), \"lamb\" => (1:m+1), \"t\" => (1:1))\n",
    "\n",
    "f=sum(x)\n",
    "\n",
    "g=[x;M*(x.^2)+q;-sum(x[j]^2*(sum(M[j,r]*x[r]^2 for r=1:n)+q[j]) for j=1:n)]\n",
    "\n",
    "\n",
    "h=[g[j]-y[j]^2 for j=1:m]#transform to equality constraints\n",
    "\n",
    "proj_coordinate(n,m,f,g,h,R,x,t,1)"
   ]
  },
  {
   "cell_type": "code",
   "execution_count": null,
   "id": "21a8fb9b",
   "metadata": {},
   "outputs": [],
   "source": []
  },
  {
   "cell_type": "code",
   "execution_count": 56,
   "id": "9a2ff245",
   "metadata": {},
   "outputs": [
    {
     "name": "stdout",
     "output_type": "stream",
     "text": [
      "fmpq_mpoly[t_{1}^3 - t_{1}]\n",
      "  0.180624 seconds (41.30 k allocations: 2.436 MiB)\n"
     ]
    }
   ],
   "source": [
    "#The case t=0\n",
    "#Finding x_2^*\n",
    "\n",
    "using Oscar\n",
    "\n",
    "n=2\n",
    "m=2*n+1\n",
    "\n",
    "R, x, y, lamb, t = PolynomialRing(QQ, \"x\" => (1:n), \"y\" => (1:m), \"lamb\" => (1:m+1), \"t\" => (1:1))\n",
    "\n",
    "f=sum(x)\n",
    "\n",
    "g=[x;M*(x.^2)+q;-sum(x[j]^2*(sum(M[j,r]*x[r]^2 for r=1:n)+q[j]) for j=1:n)]\n",
    "\n",
    "\n",
    "h=[g[j]-y[j]^2 for j=1:m]#transform to equality constraints\n",
    "\n",
    "proj_coordinate(n,m,f,g,h,R,x,t,2)"
   ]
  },
  {
   "cell_type": "code",
   "execution_count": null,
   "id": "cb44a629",
   "metadata": {},
   "outputs": [],
   "source": []
  }
 ],
 "metadata": {
  "kernelspec": {
   "display_name": "Julia 1.7.1",
   "language": "julia",
   "name": "julia-1.7"
  },
  "language_info": {
   "file_extension": ".jl",
   "mimetype": "application/julia",
   "name": "julia",
   "version": "1.7.1"
  }
 },
 "nbformat": 4,
 "nbformat_minor": 5
}
