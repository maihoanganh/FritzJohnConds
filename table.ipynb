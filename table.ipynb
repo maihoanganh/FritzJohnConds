{
 "cells": [
  {
   "cell_type": "code",
   "execution_count": 185,
   "id": "98d88932",
   "metadata": {},
   "outputs": [],
   "source": [
    "using Oscar"
   ]
  },
  {
   "cell_type": "code",
   "execution_count": 186,
   "id": "98aab505",
   "metadata": {},
   "outputs": [
    {
     "data": {
      "text/plain": [
       "solve_FJ (generic function with 1 method)"
      ]
     },
     "execution_count": 186,
     "metadata": {},
     "output_type": "execute_result"
    }
   ],
   "source": [
    "#define functions to solve f^* = min f(x) s.t. x in S(g)\n",
    "#input: f: objective polynomials \n",
    "#       g: inequality constraints\n",
    "#       h:= (g_j-y_j^2)\n",
    "#       R: ring of poynomials\n",
    "#       n: number of variables\n",
    "#       m: number of inequality constraints\n",
    "#       x: vector of variables\n",
    "#       lamb: vector of multipliers\n",
    "#       t: scalar variable\n",
    "#       radical_comp: compute radical\n",
    "\n",
    "#output: system of univariate polynomials whose common set of real roots contains f^*\n",
    "\n",
    "function solve_FJ(n,m,f,g,h,R,x,lamb,t;radical_comp=true)\n",
    "\n",
    "@time begin\n",
    "    \n",
    "#compute the set h_FJ of polynomials from Fritz John conditions\n",
    "h_FJ=Vector{fmpq_mpoly}(undef,n)\n",
    "for i in 1:n\n",
    "    h_FJ[i]=lamb[1]*derivative(f,i)\n",
    "end\n",
    "for j in 1:m\n",
    "    for i in 1:n\n",
    "        h_FJ[i]-=lamb[j+1]*derivative(g[j], i)\n",
    "    end\n",
    "end\n",
    "\n",
    "for j in 1:m\n",
    "    h_FJ=[h_FJ;lamb[j+1]*g[j]]\n",
    "end\n",
    "\n",
    "h_FJ=[h_FJ;1-sum(lamb.^2)]\n",
    "h=[h;h_FJ]\n",
    "\n",
    "h=[h;t[1]-f]#h=(gj(x)-yj^2,h_FJ,x_{n+1}-f)\n",
    "\n",
    "if radical_comp\n",
    "    RI = radical(ideal(R, h))#compute radical of V(h)\n",
    "else\n",
    "    RI = ideal(R, h)\n",
    "end\n",
    "#gens(RI)\n",
    "    \n",
    "G=groebner_basis(RI, ordering=lex(gens(R)))\n",
    "    \n",
    "check=1\n",
    "alpha=zeros(Int64,1)\n",
    "h_uni=Vector{fmpq_mpoly}([])\n",
    "for j=1:length(G)\n",
    "    check=1\n",
    "    for i in 1:length(G[j])\n",
    "        alpha=exponent_vector(G[j],i) \n",
    "        if sum(alpha[t] for t in setdiff(1:n+2*m+2,n+2*m+2))>0\n",
    "            check=0\n",
    "        end\n",
    "    end\n",
    "    if check==1\n",
    "        h_uni=[h_uni;G[j]]\n",
    "    end\n",
    "end\n",
    "\n",
    "println(h_uni)# generators of the image f(S(g)\\cap V(h_FJ))\n",
    "    \n",
    "end\n",
    "    \n",
    "end"
   ]
  },
  {
   "cell_type": "code",
   "execution_count": 187,
   "id": "67046575",
   "metadata": {},
   "outputs": [
    {
     "data": {
      "text/plain": [
       "solve_FJ_plus (generic function with 1 method)"
      ]
     },
     "execution_count": 187,
     "metadata": {},
     "output_type": "execute_result"
    }
   ],
   "source": [
    "function solve_FJ_plus(n,m,f,g,h,R,x,lamb,t)\n",
    "\n",
    "@time begin\n",
    "    \n",
    "#compute the set h_FJ of polynomials from Fritz John conditions\n",
    "h_FJ=Vector{fmpq_mpoly}(undef,n)\n",
    "for i in 1:n\n",
    "    h_FJ[i]=lamb[1]^2*derivative(f,i)\n",
    "end\n",
    "for j in 1:m\n",
    "    for i in 1:n\n",
    "        h_FJ[i]-=lamb[j+1]^2*derivative(g[j], i)\n",
    "    end\n",
    "end\n",
    "\n",
    "for j in 1:m\n",
    "    h_FJ=[h_FJ;lamb[j+1]^2*g[j]]\n",
    "end\n",
    "\n",
    "h_FJ=[h_FJ;1-sum(lamb.^2)]\n",
    "h=[h;h_FJ]\n",
    "\n",
    "h=[h;t[1]-f]#h=(gj(x)-yj^2,h_FJ,x_{n+1}-f)\n",
    "    \n",
    "RI = radical(ideal(R, h))#compute radical of V(h)\n",
    "#RI = ideal(R, h)\n",
    "#gens(RI)\n",
    "    \n",
    "G=groebner_basis(RI, ordering=lex(gens(R)))\n",
    "    \n",
    "check=1\n",
    "alpha=zeros(Int64,1)\n",
    "h_uni=Vector{fmpq_mpoly}([])\n",
    "for j=1:length(G)\n",
    "    check=1\n",
    "    for i in 1:length(G[j])\n",
    "        alpha=exponent_vector(G[j],i) \n",
    "        if sum(alpha[t] for t in setdiff(1:n+2*m+2,n+2*m+2))>0\n",
    "            check=0\n",
    "        end\n",
    "    end\n",
    "    if check==1\n",
    "        h_uni=[h_uni;G[j]]\n",
    "    end\n",
    "end\n",
    "\n",
    "println(h_uni)# generators of the image f(S(g)\\cap V(h_FJ))\n",
    "    \n",
    "end\n",
    "    \n",
    "end"
   ]
  },
  {
   "cell_type": "code",
   "execution_count": null,
   "id": "3ce2649a",
   "metadata": {},
   "outputs": [],
   "source": []
  },
  {
   "cell_type": "code",
   "execution_count": 188,
   "id": "cba86b6d",
   "metadata": {},
   "outputs": [
    {
     "data": {
      "text/plain": [
       "solve_KKT (generic function with 1 method)"
      ]
     },
     "execution_count": 188,
     "metadata": {},
     "output_type": "execute_result"
    }
   ],
   "source": [
    "function solve_KKT(n,m,f,g,h,R,x,lamb,t)\n",
    "\n",
    "@time begin\n",
    "    \n",
    "#compute the set h_KKT of polynomials from Karush–Kuhn–Tucker conditions\n",
    "h_KKT=Vector{fmpq_mpoly}(undef,n)\n",
    "for i in 1:n\n",
    "    h_KKT[i]=derivative(f,i)\n",
    "end\n",
    "for j in 1:m\n",
    "    for i in 1:n\n",
    "        h_KKT[i]-=lamb[j]*derivative(g[j], i)\n",
    "    end\n",
    "end\n",
    "\n",
    "for j in 1:m\n",
    "    h_KKT=[h_KKT;lamb[j]*g[j]]\n",
    "end\n",
    "\n",
    "h=[h;h_KKT]\n",
    "\n",
    "h=[h;t[1]-f]#h=(gj(x)-yj^2,h_FJ,x_{n+1}-f)\n",
    "    \n",
    "RI = radical(ideal(R, h))#compute radical of V(h)\n",
    "#RI = ideal(R, h)\n",
    "#gens(RI)\n",
    "    \n",
    "G=groebner_basis(RI, ordering=lex(gens(R)))\n",
    "    \n",
    "#println(G)\n",
    "    \n",
    "check=1\n",
    "alpha=zeros(Int64,1)\n",
    "h_uni=Vector{fmpq_mpoly}([])\n",
    "for j=1:length(G)\n",
    "    check=1\n",
    "    for i in 1:length(G[j])\n",
    "        alpha=exponent_vector(G[j],i) \n",
    "        if sum(alpha[t] for t in setdiff(1:n+2*m+1,n+2*m+1))>0\n",
    "            check=0\n",
    "        end\n",
    "    end\n",
    "    if check==1\n",
    "        h_uni=[h_uni;G[j]]\n",
    "    end\n",
    "end\n",
    "\n",
    "h_uni# generators of the image f(S(g)\\cap V(h_FJ))\n",
    "    \n",
    "end\n",
    "    \n",
    "end"
   ]
  },
  {
   "cell_type": "code",
   "execution_count": 189,
   "id": "ba6d5fa8",
   "metadata": {},
   "outputs": [
    {
     "data": {
      "text/plain": [
       "solve_KKT_plus (generic function with 1 method)"
      ]
     },
     "execution_count": 189,
     "metadata": {},
     "output_type": "execute_result"
    }
   ],
   "source": [
    "function solve_KKT_plus(n,m,f,g,h,R,x,lamb,t)\n",
    "\n",
    "@time begin\n",
    "    \n",
    "#compute the set h_KKT of polynomials from Karush–Kuhn–Tucker conditions\n",
    "h_KKT=Vector{fmpq_mpoly}(undef,n)\n",
    "for i in 1:n\n",
    "    h_KKT[i]=derivative(f,i)\n",
    "end\n",
    "for j in 1:m\n",
    "    for i in 1:n\n",
    "        h_KKT[i]-=lamb[j]^2*derivative(g[j], i)\n",
    "    end\n",
    "end\n",
    "\n",
    "for j in 1:m\n",
    "    h_KKT=[h_KKT;lamb[j]^2*g[j]]\n",
    "end\n",
    "\n",
    "h=[h;h_KKT]\n",
    "\n",
    "h=[h;t[1]-f]#h=(gj(x)-yj^2,h_FJ,x_{n+1}-f)\n",
    "    \n",
    "RI = radical(ideal(R, h))#compute radical of V(h)\n",
    "#RI = ideal(R, h)\n",
    "#gens(RI)\n",
    "    \n",
    "G=groebner_basis(RI, ordering=lex(gens(R)))\n",
    "    \n",
    "#println(G)\n",
    "    \n",
    "check=1\n",
    "alpha=zeros(Int64,1)\n",
    "h_uni=Vector{fmpq_mpoly}([])\n",
    "for j=1:length(G)\n",
    "    check=1\n",
    "    for i in 1:length(G[j])\n",
    "        alpha=exponent_vector(G[j],i) \n",
    "        if sum(alpha[t] for t in setdiff(1:n+2*m+1,n+2*m+1))>0\n",
    "            check=0\n",
    "        end\n",
    "    end\n",
    "    if check==1\n",
    "        h_uni=[h_uni;G[j]]\n",
    "    end\n",
    "end\n",
    "\n",
    "h_uni# generators of the image f(S(g)\\cap V(h_FJ))\n",
    "    \n",
    "end\n",
    "    \n",
    "end"
   ]
  },
  {
   "cell_type": "code",
   "execution_count": null,
   "id": "f01273fc",
   "metadata": {},
   "outputs": [],
   "source": []
  },
  {
   "cell_type": "code",
   "execution_count": null,
   "id": "ca8d075f",
   "metadata": {},
   "outputs": [],
   "source": []
  },
  {
   "cell_type": "code",
   "execution_count": null,
   "id": "e5f7ea89",
   "metadata": {},
   "outputs": [],
   "source": []
  },
  {
   "cell_type": "code",
   "execution_count": null,
   "id": "2d5c9718",
   "metadata": {},
   "outputs": [],
   "source": []
  },
  {
   "cell_type": "code",
   "execution_count": 190,
   "id": "02467829",
   "metadata": {},
   "outputs": [
    {
     "name": "stdout",
     "output_type": "stream",
     "text": [
      "fmpq_mpoly[t_{1}]\n",
      "  0.005381 seconds (2.00 k allocations: 72.406 KiB)\n"
     ]
    }
   ],
   "source": [
    "#Example 1 in Table 1 of ``A symbolic algorithm for exact polynomial optimization strengthened with Fritz John conditions'' by N. H. A. Mai\n",
    "using Oscar\n",
    "\n",
    "n=2\n",
    "m=2\n",
    "\n",
    "R, x, y, lamb, t = PolynomialRing(QQ, \"x\" => (1:n), \"y\" => (1:m), \"lamb\" => (1:m+1), \"t\" => (1:1))\n",
    "\n",
    "f=x[2]#objective polynomial\n",
    "g=[-x[1];x[1]-x[2]^2]#inequality constraints\n",
    "\n",
    "\n",
    "h=[g[j]-y[j]^2 for j=1:m]#transform to equality constraints\n",
    "\n",
    "solve_FJ(n,m,f,g,h,R,x,lamb,t)"
   ]
  },
  {
   "cell_type": "code",
   "execution_count": 191,
   "id": "8c1ff4cb",
   "metadata": {},
   "outputs": [
    {
     "data": {
      "text/plain": [
       "1-element Vector{acb}:\n",
       " 0"
      ]
     },
     "execution_count": 191,
     "metadata": {},
     "output_type": "execute_result"
    }
   ],
   "source": [
    "CC = ComplexField(64)\n",
    "C, u = PolynomialRing(CC, \"u\")\n",
    "\n",
    "m = u\n",
    "\n",
    "r = roots(m)"
   ]
  },
  {
   "cell_type": "code",
   "execution_count": 192,
   "id": "236eb8d4",
   "metadata": {},
   "outputs": [
    {
     "name": "stdout",
     "output_type": "stream",
     "text": [
      "  0.014456 seconds (39.43 k allocations: 869.531 KiB)\n"
     ]
    },
    {
     "data": {
      "text/plain": [
       "1-element Vector{fmpq_mpoly}:\n",
       " 100*t_{1}^6 + 1975*t_{1}^5 + 14001*t_{1}^4 + 41395*t_{1}^3 + 39295*t_{1}^2 - 12150*t_{1} + 504"
      ]
     },
     "execution_count": 192,
     "metadata": {},
     "output_type": "execute_result"
    }
   ],
   "source": [
    "#Example 2 in Table 1 of ``A symbolic algorithm for exact polynomial optimization strengthened with Fritz John conditions'' by N. H. A. Mai\n",
    "using Oscar\n",
    "\n",
    "n=2\n",
    "m=3\n",
    "\n",
    "R, x, y, lamb, t = PolynomialRing(QQ, \"x\" => (1:n), \"y\" => (1:m), \"lamb\" => (1:m), \"t\" => (1:1))\n",
    "\n",
    "f=x[1]-5*x[2]#objective polynomial\n",
    "\n",
    "g=[x[1]^2-x[2];-x[1]^2+4*x[2];-x[2]+1]#inequality constraints\n",
    "\n",
    "\n",
    "h=[g[j]-y[j]^2 for j=1:m]#transform to equality constraints\n",
    "\n",
    "solve_KKT(n,m,f,g,h,R,x,lamb,t)"
   ]
  },
  {
   "cell_type": "code",
   "execution_count": 193,
   "id": "403114f9",
   "metadata": {},
   "outputs": [
    {
     "data": {
      "text/plain": [
       "6-element Vector{acb}:\n",
       " [-7.00000 +/- 3.20e-6]\n",
       " [-6.00000 +/- 4.11e-6]\n",
       " [-4.00000 +/- 1.24e-6]\n",
       " [-3.000000 +/- 5.76e-7]\n",
       " [0.050000000 +/- 4.06e-10]\n",
       " [0.200000000 +/- 9.30e-10]"
      ]
     },
     "execution_count": 193,
     "metadata": {},
     "output_type": "execute_result"
    }
   ],
   "source": [
    "CC = ComplexField(64)\n",
    "C, u = PolynomialRing(CC, \"u\")\n",
    "\n",
    "m = 100*u^6 + 1975*u^5 + 14001*u^4 + 41395*u^3 + 39295*u^2 - 12150*u + 504\n",
    "\n",
    "r = roots(m,isolate_real = true)"
   ]
  },
  {
   "cell_type": "code",
   "execution_count": 194,
   "id": "dee6f6a6",
   "metadata": {},
   "outputs": [
    {
     "name": "stdout",
     "output_type": "stream",
     "text": [
      "fmpq_mpoly[27*t_{1}^4 + 59*t_{1}^3 + 60*t_{1}^2 + 28*t_{1}]\n",
      "  0.008932 seconds (10.96 k allocations: 241.109 KiB)\n"
     ]
    }
   ],
   "source": [
    "#[11, Example 3] in Table 1 of ``A symbolic algorithm for exact polynomial optimization strengthened with Fritz John conditions'' by N. H. A. Mai\n",
    "using Oscar\n",
    "\n",
    "n=2\n",
    "m=1\n",
    "\n",
    "R, x, y, lamb, t = PolynomialRing(QQ, \"x\" => (1:n), \"y\" => (1:m), \"lamb\" => (1:m+1), \"t\" => (1:1))\n",
    "\n",
    "f=(x[1]+1)^2+x[2]^2-1\n",
    "\n",
    "g=[x[1]^3-x[2]^2]\n",
    "\n",
    "\n",
    "h=[g[j]-y[j]^2 for j=1:m]#transform to equality constraints\n",
    "\n",
    "solve_FJ(n,m,f,g,h,R,x,lamb,t,radical_comp=true)"
   ]
  },
  {
   "cell_type": "code",
   "execution_count": 195,
   "id": "80d43021",
   "metadata": {},
   "outputs": [
    {
     "data": {
      "text/plain": [
       "4-element Vector{acb}:\n",
       " [-1.0000000 +/- 5.42e-9]\n",
       " [+/- 3.16e-29]\n",
       " [-0.5925926 +/- 1.65e-8] + [0.8281733 +/- 3.42e-8]*im\n",
       " [-0.5925926 +/- 1.46e-8] + [-0.8281733 +/- 3.26e-8]*im"
      ]
     },
     "execution_count": 195,
     "metadata": {},
     "output_type": "execute_result"
    }
   ],
   "source": [
    "CC = ComplexField(64)\n",
    "C, u = PolynomialRing(CC, \"u\")\n",
    "\n",
    "m = 27*u^4 + 59*u^3 + 60*u^2 + 28*u\n",
    "\n",
    "r = roots(m)"
   ]
  },
  {
   "cell_type": "code",
   "execution_count": 196,
   "id": "5ec45686",
   "metadata": {},
   "outputs": [
    {
     "name": "stdout",
     "output_type": "stream",
     "text": [
      "fmpq_mpoly[t_{1}^5 + 2*t_{1}^4 + 3*t_{1}^3 + 3*t_{1}^2 + t_{1}]\n",
      "  0.017011 seconds (24.11 k allocations: 412.806 KiB)\n"
     ]
    }
   ],
   "source": [
    "#The case t=-1\n",
    "#Finding x_1^*\n",
    "\n",
    "using Oscar\n",
    "\n",
    "n=2\n",
    "m=2\n",
    "\n",
    "R, x, y, lamb, t = PolynomialRing(QQ, \"x\" => (1:n), \"y\" => (1:m), \"lamb\" => (1:m+1), \"t\" => (1:1))\n",
    "\n",
    "f=x[1]\n",
    "\n",
    "g=[x[1]^3-x[2]^2;(x[1]+1)^2+x[2]^2]\n",
    "\n",
    "\n",
    "h=[g[j]-y[j]^2 for j=1:m]#transform to equality constraints\n",
    "\n",
    "solve_FJ(n,m,f,g,h,R,x,lamb,t,radical_comp=true)"
   ]
  },
  {
   "cell_type": "code",
   "execution_count": 197,
   "id": "1de8a9fc",
   "metadata": {},
   "outputs": [
    {
     "data": {
      "text/plain": [
       "5-element Vector{acb}:\n",
       " [-1.000000 +/- 1.10e-8]\n",
       " [-0.56984029 +/- 7.62e-9]\n",
       " [+/- 1.02e-27]\n",
       " [-0.2150799 +/- 5.33e-8] + [1.30714128 +/- 8.79e-9]*im\n",
       " [-0.2150799 +/- 5.36e-8] + [-1.30714128 +/- 9.02e-9]*im"
      ]
     },
     "execution_count": 197,
     "metadata": {},
     "output_type": "execute_result"
    }
   ],
   "source": [
    "CC = ComplexField(64)\n",
    "C, u = PolynomialRing(CC, \"u\")\n",
    "\n",
    "m = u^5 + 2*u^4 + 3*u^3 + 3*u^2 + u\n",
    "\n",
    "r = roots(m)# containts x_1^*"
   ]
  },
  {
   "cell_type": "code",
   "execution_count": 198,
   "id": "197f0b22",
   "metadata": {},
   "outputs": [
    {
     "name": "stdout",
     "output_type": "stream",
     "text": [
      "fmpq_mpoly[t_{1}^7 - 2*t_{1}^5 + 5*t_{1}^3 + t_{1}]\n",
      "  0.017537 seconds (28.43 k allocations: 493.865 KiB)\n"
     ]
    }
   ],
   "source": [
    "#The case t=-1\n",
    "#Finding x_2^*\n",
    "\n",
    "using Oscar\n",
    "\n",
    "n=2\n",
    "m=2\n",
    "\n",
    "R, x, y, lamb, t = PolynomialRing(QQ, \"x\" => (1:n), \"y\" => (1:m), \"lamb\" => (1:m+1), \"t\" => (1:1))\n",
    "\n",
    "f=x[2]\n",
    "\n",
    "g=[x[1]^3-x[2]^2;(x[1]+1)^2+x[2]^2]\n",
    "\n",
    "\n",
    "h=[g[j]-y[j]^2 for j=1:m]#transform to equality constraints\n",
    "\n",
    "solve_FJ(n,m,f,g,h,R,x,lamb,t,radical_comp=true)"
   ]
  },
  {
   "cell_type": "code",
   "execution_count": 199,
   "id": "56468cae",
   "metadata": {},
   "outputs": [
    {
     "data": {
      "text/plain": [
       "7-element Vector{acb}:\n",
       " [+/- 4.31e-25]\n",
       " [+/- 1.79e-9] + [-0.43015971 +/- 2.73e-9]*im\n",
       " [+/- 1.79e-9] + [0.43015971 +/- 2.73e-9]*im\n",
       " [-1.3071413 +/- 3.54e-8] + [0.7849201 +/- 5.93e-8]*im\n",
       " [-1.3071413 +/- 3.54e-8] + [-0.7849201 +/- 5.93e-8]*im\n",
       " [1.3071413 +/- 3.54e-8] + [-0.7849201 +/- 5.93e-8]*im\n",
       " [1.3071413 +/- 3.54e-8] + [0.7849201 +/- 5.93e-8]*im"
      ]
     },
     "execution_count": 199,
     "metadata": {},
     "output_type": "execute_result"
    }
   ],
   "source": [
    "CC = ComplexField(64)\n",
    "C, u = PolynomialRing(CC, \"u\")\n",
    "\n",
    "m = u^7 - 2*u^5 + 5*u^3 + u\n",
    "\n",
    "r = roots(m)#containts x_2^*"
   ]
  },
  {
   "cell_type": "code",
   "execution_count": null,
   "id": "0ad93638",
   "metadata": {},
   "outputs": [],
   "source": []
  },
  {
   "cell_type": "code",
   "execution_count": 200,
   "id": "dbe5546d",
   "metadata": {},
   "outputs": [
    {
     "name": "stdout",
     "output_type": "stream",
     "text": [
      "fmpq_mpoly[t_{1}^4 + 3*t_{1}^3 + 4*t_{1}^2 + 4*t_{1}]\n",
      "  0.060131 seconds (26.70 k allocations: 1.191 MiB)\n"
     ]
    }
   ],
   "source": [
    "#The case t=0\n",
    "#Finding x_1^*\n",
    "\n",
    "using Oscar\n",
    "\n",
    "n=2\n",
    "m=2\n",
    "\n",
    "R, x, y, lamb, t = PolynomialRing(QQ, \"x\" => (1:n), \"y\" => (1:m), \"lamb\" => (1:m+1), \"t\" => (1:1))\n",
    "\n",
    "f=x[1]\n",
    "\n",
    "g=[x[1]^3-x[2]^2;(x[1]+1)^2+x[2]^2-1]\n",
    "\n",
    "\n",
    "h=[g[j]-y[j]^2 for j=1:m]#transform to equality constraints\n",
    "\n",
    "solve_FJ(n,m,f,g,h,R,x,lamb,t,radical_comp=true)"
   ]
  },
  {
   "cell_type": "code",
   "execution_count": 201,
   "id": "e19716e3",
   "metadata": {},
   "outputs": [
    {
     "data": {
      "text/plain": [
       "4-element Vector{acb}:\n",
       " [-2.00000000 +/- 3.73e-9]\n",
       " 0\n",
       " [-0.50000000 +/- 6.13e-9] + [1.3228757 +/- 5.03e-8]*im\n",
       " [-0.50000000 +/- 2.48e-9] + [-1.32287566 +/- 6.76e-9]*im"
      ]
     },
     "execution_count": 201,
     "metadata": {},
     "output_type": "execute_result"
    }
   ],
   "source": [
    "CC = ComplexField(64)\n",
    "C, u = PolynomialRing(CC, \"u\")\n",
    "\n",
    "m = u^4 + 3*u^3 + 4*u^2 + 4*u\n",
    "\n",
    "r = roots(m)"
   ]
  },
  {
   "cell_type": "code",
   "execution_count": 202,
   "id": "3f516e88",
   "metadata": {},
   "outputs": [
    {
     "name": "stdout",
     "output_type": "stream",
     "text": [
      "fmpq_mpoly[t_{1}^7 - 6*t_{1}^5 + 13*t_{1}^3 - 8*t_{1}]\n",
      "  0.015154 seconds (27.28 k allocations: 549.917 KiB)\n"
     ]
    }
   ],
   "source": [
    "#The case t=0\n",
    "#Finding x_2^*\n",
    "\n",
    "using Oscar\n",
    "\n",
    "n=2\n",
    "m=2\n",
    "\n",
    "R, x, y, lamb, t = PolynomialRing(QQ, \"x\" => (1:n), \"y\" => (1:m), \"lamb\" => (1:m+1), \"t\" => (1:1))\n",
    "\n",
    "f=x[2]\n",
    "\n",
    "g=[x[1]^3-x[2]^2;(x[1]+1)^2+x[2]^2-1]\n",
    "\n",
    "\n",
    "h=[g[j]-y[j]^2 for j=1:m]#transform to equality constraints\n",
    "\n",
    "solve_FJ(n,m,f,g,h,R,x,lamb,t,radical_comp=true)"
   ]
  },
  {
   "cell_type": "code",
   "execution_count": 203,
   "id": "f3cb35ee",
   "metadata": {},
   "outputs": [
    {
     "data": {
      "text/plain": [
       "7-element Vector{acb}:\n",
       " [-1.000000 +/- 1.03e-8]\n",
       " [+/- 3.04e-28]\n",
       " [1.000000 +/- 1.03e-8]\n",
       " [-1.6322419 +/- 4.52e-8] + [0.4052327 +/- 5.40e-8]*im\n",
       " [-1.6322419 +/- 4.29e-8] + [-0.4052327 +/- 5.21e-8]*im\n",
       " [1.6322419 +/- 4.29e-8] + [0.4052327 +/- 5.21e-8]*im\n",
       " [1.6322419 +/- 4.43e-8] + [-0.4052327 +/- 5.29e-8]*im"
      ]
     },
     "execution_count": 203,
     "metadata": {},
     "output_type": "execute_result"
    }
   ],
   "source": [
    "CC = ComplexField(64)\n",
    "C, u = PolynomialRing(CC, \"u\")\n",
    "\n",
    "m = u^7 - 6*u^5 + 13*u^3 - 8*u\n",
    "\n",
    "r = roots(m)"
   ]
  },
  {
   "cell_type": "code",
   "execution_count": 204,
   "id": "0d034e72",
   "metadata": {},
   "outputs": [
    {
     "name": "stdout",
     "output_type": "stream",
     "text": [
      "fmpq_mpoly[t_{1}]\n",
      "  0.032922 seconds (2.77 k allocations: 95.891 KiB)\n"
     ]
    }
   ],
   "source": [
    "#[11, Example 5] in Table 1 of ``A symbolic algorithm for exact polynomial optimization strengthened with Fritz John conditions'' by N. H. A. Mai\n",
    "using Oscar\n",
    "\n",
    "n=2\n",
    "m=1\n",
    "\n",
    "R, x, y, lamb, t = PolynomialRing(QQ, \"x\" => (1:n), \"y\" => (1:m), \"lamb\" => (1:m+1), \"t\" => (1:1))\n",
    "\n",
    "f=x[1]-x[2]\n",
    "\n",
    "g=[(x[1]-x[2])^3]\n",
    "\n",
    "\n",
    "h=[g[j]-y[j]^2 for j=1:m]#transform to equality constraints\n",
    "\n",
    "solve_FJ_plus(n,m,f,g,h,R,x,lamb,t)"
   ]
  },
  {
   "cell_type": "code",
   "execution_count": null,
   "id": "b5fef7f5",
   "metadata": {},
   "outputs": [],
   "source": []
  },
  {
   "cell_type": "code",
   "execution_count": 205,
   "id": "5a8a0c5b",
   "metadata": {},
   "outputs": [
    {
     "data": {
      "text/plain": [
       "1-element Vector{acb}:\n",
       " 0"
      ]
     },
     "execution_count": 205,
     "metadata": {},
     "output_type": "execute_result"
    }
   ],
   "source": [
    "CC = ComplexField(64)\n",
    "C, u = PolynomialRing(CC, \"u\")\n",
    "\n",
    "m = u\n",
    "\n",
    "r = roots(m)"
   ]
  },
  {
   "cell_type": "code",
   "execution_count": null,
   "id": "575cc3d3",
   "metadata": {},
   "outputs": [],
   "source": []
  },
  {
   "cell_type": "code",
   "execution_count": 206,
   "id": "59030cd8",
   "metadata": {},
   "outputs": [
    {
     "name": "stdout",
     "output_type": "stream",
     "text": [
      "  0.061127 seconds (17.71 k allocations: 785.406 KiB)\n"
     ]
    },
    {
     "data": {
      "text/plain": [
       "1-element Vector{fmpq_mpoly}:\n",
       " t_{1}^3 - 62*t_{1}^2 - 63*t_{1}"
      ]
     },
     "execution_count": 206,
     "metadata": {},
     "output_type": "execute_result"
    }
   ],
   "source": [
    "#[6, Example A2] in Table 1 of ``A symbolic algorithm for exact polynomial optimization strengthened with Fritz John conditions'' by N. H. A. Mai\n",
    "using Oscar\n",
    "\n",
    "n=2\n",
    "m=1\n",
    "\n",
    "R, x, y, lamb, t = PolynomialRing(QQ, \"x\" => (1:n), \"y\" => (1:m), \"lamb\" => (1:m), \"t\" => (1:1))\n",
    "\n",
    "f=(x[1]^2+x[2]^2-2)*(x[1]^2+x[2]^2)#objective polynomial\n",
    "\n",
    "g=[(x[1]^2+x[2]^2-2)*(x[1]-3)]#inequality constraints\n",
    "\n",
    "h=[g[j]-y[j]^2 for j=1:m]#transform to equality constraints\n",
    "\n",
    "solve_KKT(n,m,f,g,h,R,x,lamb,t)"
   ]
  },
  {
   "cell_type": "code",
   "execution_count": 207,
   "id": "e3ec0afa",
   "metadata": {},
   "outputs": [
    {
     "data": {
      "text/plain": [
       "3-element Vector{acb}:\n",
       " [-1.00000000 +/- 1.40e-9]\n",
       " [+/- 6.08e-29]\n",
       " [63.00000000 +/- 1.40e-9]"
      ]
     },
     "execution_count": 207,
     "metadata": {},
     "output_type": "execute_result"
    }
   ],
   "source": [
    "CC = ComplexField(64)\n",
    "C, u = PolynomialRing(CC, \"u\")\n",
    "\n",
    "m = u^3 - 62*u^2 - 63*u\n",
    "\n",
    "r = roots(m,isolate_real = true)"
   ]
  },
  {
   "cell_type": "code",
   "execution_count": null,
   "id": "0f7192b5",
   "metadata": {},
   "outputs": [],
   "source": []
  },
  {
   "cell_type": "code",
   "execution_count": 208,
   "id": "0cf7a89a",
   "metadata": {},
   "outputs": [
    {
     "name": "stdout",
     "output_type": "stream",
     "text": [
      "  0.172232 seconds (1.43 M allocations: 31.758 MiB)\n"
     ]
    },
    {
     "data": {
      "text/plain": [
       "1-element Vector{fmpq_mpoly}:\n",
       " 49207500000000000*t_{1}^11 - 81961242187500000*t_{1}^10 + 35401891640625000*t_{1}^9 - 5747811890625000*t_{1}^8 + 576144305156250*t_{1}^7 - 50773802062500*t_{1}^6 + 2487391238125*t_{1}^5 - 34983679000*t_{1}^4 + 1586740350*t_{1}^3 - 4087040*t_{1}^2 + 182336*t_{1}"
      ]
     },
     "execution_count": 208,
     "metadata": {},
     "output_type": "execute_result"
    }
   ],
   "source": [
    "#[11, Example 11] in Table 1 of ``A symbolic algorithm for exact polynomial optimization strengthened with Fritz John conditions'' by N. H. A. Mai\n",
    "using Oscar\n",
    "\n",
    "n=3\n",
    "m=1\n",
    "\n",
    "R, x, y, lamb, t = PolynomialRing(QQ, \"x\" => (1:n), \"y\" => (1:m), \"lamb\" => (1:m), \"t\" => (1:1))\n",
    "\n",
    "eps=1//10\n",
    "\n",
    "f=x[1]^4*x[2]^2+x[1]^2*x[2]^4+x[3]^6-3*x[1]^2*x[2]^2*x[3]^2+eps*(x[1]^2+x[2]^2+x[3]^2) \n",
    "g=[1-x[1]^2-x[2]^2-x[3]^2]\n",
    "\n",
    "h=[g[j]-y[j]^2 for j=1:m]#transform to equality constraints\n",
    "\n",
    "solve_KKT(n,m,f,g,h,R,x,lamb,t)"
   ]
  },
  {
   "cell_type": "code",
   "execution_count": 209,
   "id": "b52b3330",
   "metadata": {},
   "outputs": [
    {
     "data": {
      "text/plain": [
       "11-element Vector{acb}:\n",
       " [+/- 1.22e-11]\n",
       " [0.100000 +/- 2.57e-8]\n",
       " [0.1156250 +/- 3.35e-8]\n",
       " [0.3500000 +/- 2.03e-8]\n",
       " [1.1000000 +/- 1.89e-8]\n",
       " [+/- 1.82e-10] + [0.012171612 +/- 5.68e-10]*im\n",
       " [+/- 1.22e-10] + [-0.012171612 +/- 5.12e-10]*im\n",
       " [+/- 3.29e-10] + [0.024343225 +/- 5.47e-10]*im\n",
       " [+/- 3.29e-10] + [-0.024343225 +/- 5.47e-10]*im\n",
       " [+/- 1.32e-9] + [0.09737290 +/- 2.18e-9]*im\n",
       " [+/- 1.35e-9] + [-0.09737290 +/- 2.21e-9]*im"
      ]
     },
     "execution_count": 209,
     "metadata": {},
     "output_type": "execute_result"
    }
   ],
   "source": [
    "CC = ComplexField(64)\n",
    "C, u = PolynomialRing(CC, \"u\")\n",
    "\n",
    "m = 49207500000000000*u^11 - 81961242187500000*u^10 + 35401891640625000*u^9 - 5747811890625000*u^8 + 576144305156250*u^7 - 50773802062500*u^6 + 2487391238125*u^5 - 34983679000*u^4 + 1586740350*u^3 - 4087040*u^2 + 182336*u\n",
    "\n",
    "r = roots(m,isolate_real = true)"
   ]
  },
  {
   "cell_type": "code",
   "execution_count": 210,
   "id": "4174e86b",
   "metadata": {},
   "outputs": [
    {
     "name": "stdout",
     "output_type": "stream",
     "text": [
      "  0.017377 seconds (20.35 k allocations: 447.312 KiB)\n"
     ]
    },
    {
     "data": {
      "text/plain": [
       "1-element Vector{fmpq_mpoly}:\n",
       " 54*t_{1}^4 - 83*t_{1}^3 + 30*t_{1}^2 - t_{1}"
      ]
     },
     "execution_count": 210,
     "metadata": {},
     "output_type": "execute_result"
    }
   ],
   "source": [
    "#[11, Example 12] in Table 1 of ``A symbolic algorithm for exact polynomial optimization strengthened with Fritz John conditions'' by N. H. A. Mai\n",
    "using Oscar\n",
    "\n",
    "n=2\n",
    "m=3\n",
    "\n",
    "R, x, y, lamb, t = PolynomialRing(QQ, \"x\" => (1:n), \"y\" => (1:m), \"lamb\" => (1:m), \"t\" => (1:1))\n",
    "\n",
    "\n",
    "f=x[1]*x[2]+x[1]^3+x[2]^3\n",
    "g=[x[1];x[2];1-x[1]-x[2]]\n",
    "\n",
    "h=[g[j]-y[j]^2 for j=1:m]#transform to equality constraints\n",
    "\n",
    "solve_KKT(n,m,f,g,h,R,x,lamb,t)"
   ]
  },
  {
   "cell_type": "code",
   "execution_count": 211,
   "id": "cf2f2d91",
   "metadata": {},
   "outputs": [
    {
     "data": {
      "text/plain": [
       "4-element Vector{acb}:\n",
       " 0\n",
       " [0.037037037 +/- 1.73e-10]\n",
       " [0.50000000 +/- 3.52e-9]\n",
       " 1.0000000000000000000"
      ]
     },
     "execution_count": 211,
     "metadata": {},
     "output_type": "execute_result"
    }
   ],
   "source": [
    "CC = ComplexField(64)\n",
    "C, u = PolynomialRing(CC, \"u\")\n",
    "\n",
    "m = 54*u^4 - 83*u^3 + 30*u^2 -u\n",
    "\n",
    "r = roots(m,isolate_real = true)"
   ]
  },
  {
   "cell_type": "code",
   "execution_count": 212,
   "id": "74091bf6",
   "metadata": {},
   "outputs": [
    {
     "name": "stdout",
     "output_type": "stream",
     "text": [
      "  1.235998 seconds (724.44 k allocations: 14.607 MiB)\n"
     ]
    },
    {
     "data": {
      "text/plain": [
       "1-element Vector{fmpq_mpoly}:\n",
       " 64*t_{1}^4 - 271*t_{1}^3 + 234*t_{1}^2 - 27*t_{1}"
      ]
     },
     "execution_count": 212,
     "metadata": {},
     "output_type": "execute_result"
    }
   ],
   "source": [
    "#[11, Example 13] in Table 1 of ``A symbolic algorithm for exact polynomial optimization strengthened with Fritz John conditions'' by N. H. A. Mai\n",
    "using Oscar\n",
    "\n",
    "n=3\n",
    "m=3\n",
    "\n",
    "R, x, y, lamb, t = PolynomialRing(QQ, \"x\" => (1:n), \"y\" => (1:m), \"lamb\" => (1:m), \"t\" => (1:1))\n",
    "\n",
    "\n",
    "f=x[1]^4*x[2]^2+x[2]^4*x[3]^2+x[3]^4*x[1]^2-3*x[1]^2*x[2]^2*x[3]^2\n",
    "g=[1-x[1]^2;1-x[2]^2;1-x[3]^2]\n",
    "\n",
    "h=[g[j]-y[j]^2 for j=1:m]#transform to equality constraints\n",
    "\n",
    "solve_KKT_plus(n,m,f,g,h,R,x,lamb,t)"
   ]
  },
  {
   "cell_type": "code",
   "execution_count": 213,
   "id": "cd2e5ba7",
   "metadata": {},
   "outputs": [
    {
     "data": {
      "text/plain": [
       "4-element Vector{acb}:\n",
       " [+/- 6.43e-26]\n",
       " [0.13616744 +/- 3.33e-9]\n",
       " [1.0000000 +/- 6.40e-9]\n",
       " [3.09820756 +/- 7.77e-9]"
      ]
     },
     "execution_count": 213,
     "metadata": {},
     "output_type": "execute_result"
    }
   ],
   "source": [
    "CC = ComplexField(64)\n",
    "C, u = PolynomialRing(CC, \"u\")\n",
    "\n",
    "m = 64*u^4 - 271*u^3 + 234*u^2 - 27*u\n",
    "\n",
    "r = roots(m,isolate_real = true)"
   ]
  },
  {
   "cell_type": "code",
   "execution_count": 214,
   "id": "9721a21e",
   "metadata": {},
   "outputs": [
    {
     "name": "stdout",
     "output_type": "stream",
     "text": [
      "fmpq_mpoly[]\n",
      "  0.135581 seconds (80.10 k allocations: 4.897 MiB)\n"
     ]
    }
   ],
   "source": [
    "#[12, Example 5] in Table 1 of ``A symbolic algorithm for exact polynomial optimization strengthened with Fritz John conditions'' by N. H. A. Mai\n",
    "using Oscar\n",
    "\n",
    "n=2\n",
    "m=3\n",
    "\n",
    "R, x, y, lamb, t = PolynomialRing(QQ, \"x\" => (1:n), \"y\" => (1:m), \"lamb\" => (1:m+1), \"t\" => (1:1))\n",
    "\n",
    "\n",
    "f=x[1]+x[2]\n",
    "g=[x[1]^3;x[2]^3;-x[1]*x[2]]\n",
    "\n",
    "h=[g[j]-y[j]^2 for j=1:m]#transform to equality constraints\n",
    "\n",
    "solve_FJ_plus(n,m,f,g,h,R,x,lamb,t)"
   ]
  },
  {
   "cell_type": "code",
   "execution_count": 215,
   "id": "0b914685",
   "metadata": {},
   "outputs": [
    {
     "name": "stdout",
     "output_type": "stream",
     "text": [
      "fmpq_mpoly[1]\n",
      "  0.002953 seconds (1.30 k allocations: 43.758 KiB)\n"
     ]
    }
   ],
   "source": [
    "#[11, Example 9] in Table 1 of ``A symbolic algorithm for exact polynomial optimization strengthened with Fritz John conditions'' by N. H. A. Mai\n",
    "using Oscar\n",
    "\n",
    "n=2\n",
    "m=1\n",
    "\n",
    "R, x, y, lamb, t = PolynomialRing(QQ, \"x\" => (1:n), \"y\" => (1:m), \"lamb\" => (1:m+1), \"t\" => (1:1))\n",
    "\n",
    "\n",
    "f=x[1]\n",
    "g=[x[1]*x[2]^2-1]\n",
    "\n",
    "h=[g[j]-y[j]^2 for j=1:m]#transform to equality constraints\n",
    "\n",
    "solve_FJ_plus(n,m,f,g,h,R,x,lamb,t)"
   ]
  },
  {
   "cell_type": "code",
   "execution_count": null,
   "id": "550d626c",
   "metadata": {},
   "outputs": [],
   "source": []
  }
 ],
 "metadata": {
  "kernelspec": {
   "display_name": "Julia 1.7.1",
   "language": "julia",
   "name": "julia-1.7"
  },
  "language_info": {
   "file_extension": ".jl",
   "mimetype": "application/julia",
   "name": "julia",
   "version": "1.7.1"
  }
 },
 "nbformat": 4,
 "nbformat_minor": 5
}
